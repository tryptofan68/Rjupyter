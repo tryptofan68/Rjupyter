{
 "cells": [
  {
   "cell_type": "markdown",
   "metadata": {},
   "source": [
    "### confidence interval"
   ]
  },
  {
   "cell_type": "code",
   "execution_count": 6,
   "metadata": {},
   "outputs": [
    {
     "name": "stderr",
     "output_type": "stream",
     "text": [
      "Installing package into 'C:/R/library'\n",
      "(as 'lib' is unspecified)\n"
     ]
    },
    {
     "name": "stdout",
     "output_type": "stream",
     "text": [
      "package 'binom' successfully unpacked and MD5 sums checked\n",
      "\n",
      "The downloaded binary packages are in\n",
      "\tC:\\Users\\Sébastien\\AppData\\Local\\Temp\\RtmpiOFd5f\\downloaded_packages\n"
     ]
    }
   ],
   "source": [
    "install.packages(\"binom\", repos='http://cran.us.r-project.org')"
   ]
  },
  {
   "cell_type": "code",
   "execution_count": 7,
   "metadata": {},
   "outputs": [],
   "source": [
    "library(binom)"
   ]
  },
  {
   "cell_type": "code",
   "execution_count": 8,
   "metadata": {},
   "outputs": [
    {
     "data": {
      "text/html": [
       "<table>\n",
       "<thead><tr><th scope=col>method</th><th scope=col>x</th><th scope=col>n</th><th scope=col>mean</th><th scope=col>lower</th><th scope=col>upper</th></tr></thead>\n",
       "<tbody>\n",
       "\t<tr><td>agresti-coull</td><td>3            </td><td>10           </td><td>0.3000000    </td><td>0.10333842   </td><td>0.6076747    </td></tr>\n",
       "\t<tr><td>asymptotic   </td><td>3            </td><td>10           </td><td>0.3000000    </td><td>0.01597423   </td><td>0.5840258    </td></tr>\n",
       "\t<tr><td>bayes        </td><td>3            </td><td>10           </td><td>0.3181818    </td><td>0.07454423   </td><td>0.5794516    </td></tr>\n",
       "\t<tr><td>cloglog      </td><td>3            </td><td>10           </td><td>0.3000000    </td><td>0.07113449   </td><td>0.5778673    </td></tr>\n",
       "\t<tr><td>exact        </td><td>3            </td><td>10           </td><td>0.3000000    </td><td>0.06673951   </td><td>0.6524529    </td></tr>\n",
       "\t<tr><td>logit        </td><td>3            </td><td>10           </td><td>0.3000000    </td><td>0.09976832   </td><td>0.6236819    </td></tr>\n",
       "\t<tr><td>probit       </td><td>3            </td><td>10           </td><td>0.3000000    </td><td>0.08991347   </td><td>0.6150429    </td></tr>\n",
       "\t<tr><td>profile      </td><td>3            </td><td>10           </td><td>0.3000000    </td><td>0.08470272   </td><td>0.6065091    </td></tr>\n",
       "\t<tr><td>lrt          </td><td>3            </td><td>10           </td><td>0.3000000    </td><td>0.08458545   </td><td>0.6065389    </td></tr>\n",
       "\t<tr><td>prop.test    </td><td>3            </td><td>10           </td><td>0.3000000    </td><td>0.08094782   </td><td>0.6463293    </td></tr>\n",
       "\t<tr><td>wilson       </td><td>3            </td><td>10           </td><td>0.3000000    </td><td>0.10779127   </td><td>0.6032219    </td></tr>\n",
       "</tbody>\n",
       "</table>\n"
      ],
      "text/latex": [
       "\\begin{tabular}{r|llllll}\n",
       " method & x & n & mean & lower & upper\\\\\n",
       "\\hline\n",
       "\t agresti-coull & 3             & 10            & 0.3000000     & 0.10333842    & 0.6076747    \\\\\n",
       "\t asymptotic    & 3             & 10            & 0.3000000     & 0.01597423    & 0.5840258    \\\\\n",
       "\t bayes         & 3             & 10            & 0.3181818     & 0.07454423    & 0.5794516    \\\\\n",
       "\t cloglog       & 3             & 10            & 0.3000000     & 0.07113449    & 0.5778673    \\\\\n",
       "\t exact         & 3             & 10            & 0.3000000     & 0.06673951    & 0.6524529    \\\\\n",
       "\t logit         & 3             & 10            & 0.3000000     & 0.09976832    & 0.6236819    \\\\\n",
       "\t probit        & 3             & 10            & 0.3000000     & 0.08991347    & 0.6150429    \\\\\n",
       "\t profile       & 3             & 10            & 0.3000000     & 0.08470272    & 0.6065091    \\\\\n",
       "\t lrt           & 3             & 10            & 0.3000000     & 0.08458545    & 0.6065389    \\\\\n",
       "\t prop.test     & 3             & 10            & 0.3000000     & 0.08094782    & 0.6463293    \\\\\n",
       "\t wilson        & 3             & 10            & 0.3000000     & 0.10779127    & 0.6032219    \\\\\n",
       "\\end{tabular}\n"
      ],
      "text/markdown": [
       "\n",
       "method | x | n | mean | lower | upper | \n",
       "|---|---|---|---|---|---|---|---|---|---|---|\n",
       "| agresti-coull | 3             | 10            | 0.3000000     | 0.10333842    | 0.6076747     | \n",
       "| asymptotic    | 3             | 10            | 0.3000000     | 0.01597423    | 0.5840258     | \n",
       "| bayes         | 3             | 10            | 0.3181818     | 0.07454423    | 0.5794516     | \n",
       "| cloglog       | 3             | 10            | 0.3000000     | 0.07113449    | 0.5778673     | \n",
       "| exact         | 3             | 10            | 0.3000000     | 0.06673951    | 0.6524529     | \n",
       "| logit         | 3             | 10            | 0.3000000     | 0.09976832    | 0.6236819     | \n",
       "| probit        | 3             | 10            | 0.3000000     | 0.08991347    | 0.6150429     | \n",
       "| profile       | 3             | 10            | 0.3000000     | 0.08470272    | 0.6065091     | \n",
       "| lrt           | 3             | 10            | 0.3000000     | 0.08458545    | 0.6065389     | \n",
       "| prop.test     | 3             | 10            | 0.3000000     | 0.08094782    | 0.6463293     | \n",
       "| wilson        | 3             | 10            | 0.3000000     | 0.10779127    | 0.6032219     | \n",
       "\n",
       "\n"
      ],
      "text/plain": [
       "   method        x n  mean      lower      upper    \n",
       "1  agresti-coull 3 10 0.3000000 0.10333842 0.6076747\n",
       "2  asymptotic    3 10 0.3000000 0.01597423 0.5840258\n",
       "3  bayes         3 10 0.3181818 0.07454423 0.5794516\n",
       "4  cloglog       3 10 0.3000000 0.07113449 0.5778673\n",
       "5  exact         3 10 0.3000000 0.06673951 0.6524529\n",
       "6  logit         3 10 0.3000000 0.09976832 0.6236819\n",
       "7  probit        3 10 0.3000000 0.08991347 0.6150429\n",
       "8  profile       3 10 0.3000000 0.08470272 0.6065091\n",
       "9  lrt           3 10 0.3000000 0.08458545 0.6065389\n",
       "10 prop.test     3 10 0.3000000 0.08094782 0.6463293\n",
       "11 wilson        3 10 0.3000000 0.10779127 0.6032219"
      ]
     },
     "metadata": {},
     "output_type": "display_data"
    }
   ],
   "source": [
    "binom.confint(3, 10, method=\"all\")"
   ]
  },
  {
   "cell_type": "code",
   "execution_count": 9,
   "metadata": {},
   "outputs": [
    {
     "data": {
      "text/html": [
       "<table>\n",
       "<thead><tr><th scope=col>method</th><th scope=col>x</th><th scope=col>n</th><th scope=col>mean</th><th scope=col>lower</th><th scope=col>upper</th></tr></thead>\n",
       "<tbody>\n",
       "\t<tr><td>agresti-coull</td><td>300          </td><td>1000         </td><td>0.3000000    </td><td>0.2723966    </td><td>0.3291341    </td></tr>\n",
       "\t<tr><td>asymptotic   </td><td>300          </td><td>1000         </td><td>0.3000000    </td><td>0.2715974    </td><td>0.3284026    </td></tr>\n",
       "\t<tr><td>bayes        </td><td>300          </td><td>1000         </td><td>0.3001998    </td><td>0.2719448    </td><td>0.3286787    </td></tr>\n",
       "\t<tr><td>cloglog      </td><td>300          </td><td>1000         </td><td>0.3000000    </td><td>0.2718595    </td><td>0.3285966    </td></tr>\n",
       "\t<tr><td>exact        </td><td>300          </td><td>1000         </td><td>0.3000000    </td><td>0.2717211    </td><td>0.3294617    </td></tr>\n",
       "\t<tr><td>logit        </td><td>300          </td><td>1000         </td><td>0.3000000    </td><td>0.2723865    </td><td>0.3291466    </td></tr>\n",
       "\t<tr><td>probit       </td><td>300          </td><td>1000         </td><td>0.3000000    </td><td>0.2722277    </td><td>0.3289871    </td></tr>\n",
       "\t<tr><td>profile      </td><td>300          </td><td>1000         </td><td>0.3000000    </td><td>0.2721340    </td><td>0.3288893    </td></tr>\n",
       "\t<tr><td>lrt          </td><td>300          </td><td>1000         </td><td>0.3000000    </td><td>0.2721419    </td><td>0.3289000    </td></tr>\n",
       "\t<tr><td>prop.test    </td><td>300          </td><td>1000         </td><td>0.3000000    </td><td>0.2719222    </td><td>0.3296354    </td></tr>\n",
       "\t<tr><td>wilson       </td><td>300          </td><td>1000         </td><td>0.3000000    </td><td>0.2724068    </td><td>0.3291239    </td></tr>\n",
       "</tbody>\n",
       "</table>\n"
      ],
      "text/latex": [
       "\\begin{tabular}{r|llllll}\n",
       " method & x & n & mean & lower & upper\\\\\n",
       "\\hline\n",
       "\t agresti-coull & 300           & 1000          & 0.3000000     & 0.2723966     & 0.3291341    \\\\\n",
       "\t asymptotic    & 300           & 1000          & 0.3000000     & 0.2715974     & 0.3284026    \\\\\n",
       "\t bayes         & 300           & 1000          & 0.3001998     & 0.2719448     & 0.3286787    \\\\\n",
       "\t cloglog       & 300           & 1000          & 0.3000000     & 0.2718595     & 0.3285966    \\\\\n",
       "\t exact         & 300           & 1000          & 0.3000000     & 0.2717211     & 0.3294617    \\\\\n",
       "\t logit         & 300           & 1000          & 0.3000000     & 0.2723865     & 0.3291466    \\\\\n",
       "\t probit        & 300           & 1000          & 0.3000000     & 0.2722277     & 0.3289871    \\\\\n",
       "\t profile       & 300           & 1000          & 0.3000000     & 0.2721340     & 0.3288893    \\\\\n",
       "\t lrt           & 300           & 1000          & 0.3000000     & 0.2721419     & 0.3289000    \\\\\n",
       "\t prop.test     & 300           & 1000          & 0.3000000     & 0.2719222     & 0.3296354    \\\\\n",
       "\t wilson        & 300           & 1000          & 0.3000000     & 0.2724068     & 0.3291239    \\\\\n",
       "\\end{tabular}\n"
      ],
      "text/markdown": [
       "\n",
       "method | x | n | mean | lower | upper | \n",
       "|---|---|---|---|---|---|---|---|---|---|---|\n",
       "| agresti-coull | 300           | 1000          | 0.3000000     | 0.2723966     | 0.3291341     | \n",
       "| asymptotic    | 300           | 1000          | 0.3000000     | 0.2715974     | 0.3284026     | \n",
       "| bayes         | 300           | 1000          | 0.3001998     | 0.2719448     | 0.3286787     | \n",
       "| cloglog       | 300           | 1000          | 0.3000000     | 0.2718595     | 0.3285966     | \n",
       "| exact         | 300           | 1000          | 0.3000000     | 0.2717211     | 0.3294617     | \n",
       "| logit         | 300           | 1000          | 0.3000000     | 0.2723865     | 0.3291466     | \n",
       "| probit        | 300           | 1000          | 0.3000000     | 0.2722277     | 0.3289871     | \n",
       "| profile       | 300           | 1000          | 0.3000000     | 0.2721340     | 0.3288893     | \n",
       "| lrt           | 300           | 1000          | 0.3000000     | 0.2721419     | 0.3289000     | \n",
       "| prop.test     | 300           | 1000          | 0.3000000     | 0.2719222     | 0.3296354     | \n",
       "| wilson        | 300           | 1000          | 0.3000000     | 0.2724068     | 0.3291239     | \n",
       "\n",
       "\n"
      ],
      "text/plain": [
       "   method        x   n    mean      lower     upper    \n",
       "1  agresti-coull 300 1000 0.3000000 0.2723966 0.3291341\n",
       "2  asymptotic    300 1000 0.3000000 0.2715974 0.3284026\n",
       "3  bayes         300 1000 0.3001998 0.2719448 0.3286787\n",
       "4  cloglog       300 1000 0.3000000 0.2718595 0.3285966\n",
       "5  exact         300 1000 0.3000000 0.2717211 0.3294617\n",
       "6  logit         300 1000 0.3000000 0.2723865 0.3291466\n",
       "7  probit        300 1000 0.3000000 0.2722277 0.3289871\n",
       "8  profile       300 1000 0.3000000 0.2721340 0.3288893\n",
       "9  lrt           300 1000 0.3000000 0.2721419 0.3289000\n",
       "10 prop.test     300 1000 0.3000000 0.2719222 0.3296354\n",
       "11 wilson        300 1000 0.3000000 0.2724068 0.3291239"
      ]
     },
     "metadata": {},
     "output_type": "display_data"
    }
   ],
   "source": [
    "binom.confint(300, 1000, method=\"all\")"
   ]
  },
  {
   "cell_type": "markdown",
   "metadata": {},
   "source": [
    "### correlation"
   ]
  },
  {
   "cell_type": "code",
   "execution_count": 1,
   "metadata": {},
   "outputs": [],
   "source": [
    "data <- read.csv2('../data/smp1.csv')"
   ]
  },
  {
   "cell_type": "code",
   "execution_count": 2,
   "metadata": {},
   "outputs": [
    {
     "data": {
      "text/html": [
       "<table>\n",
       "<thead><tr><th scope=col>age</th><th scope=col>prof</th><th scope=col>dep.cons</th><th scope=col>scz.cons</th><th scope=col>grav.cons</th><th scope=col>n.enfant</th><th scope=col>rs</th><th scope=col>ed</th><th scope=col>dr</th></tr></thead>\n",
       "<tbody>\n",
       "\t<tr><td>31                </td><td>autre             </td><td>0                 </td><td>0                 </td><td>1                 </td><td>2                 </td><td>2                 </td><td>1                 </td><td>1                 </td></tr>\n",
       "\t<tr><td>49                </td><td>NA                </td><td>0                 </td><td>0                 </td><td>2                 </td><td>7                 </td><td>2                 </td><td>2                 </td><td>1                 </td></tr>\n",
       "\t<tr><td>50                </td><td>prof.intermediaire</td><td>0                 </td><td>0                 </td><td>2                 </td><td>2                 </td><td>2                 </td><td>3                 </td><td>2                 </td></tr>\n",
       "\t<tr><td>47                </td><td>ouvrier           </td><td>0                 </td><td>0                 </td><td>1                 </td><td>0                 </td><td>2                 </td><td>2                 </td><td>2                 </td></tr>\n",
       "\t<tr><td>23                </td><td>sans emploi       </td><td>1                 </td><td>0                 </td><td>2                 </td><td>1                 </td><td>2                 </td><td>2                 </td><td>2                 </td></tr>\n",
       "\t<tr><td>34                </td><td>ouvrier           </td><td>0                 </td><td>0                 </td><td>1                 </td><td>3                 </td><td>1                 </td><td>2                 </td><td>1                 </td></tr>\n",
       "</tbody>\n",
       "</table>\n"
      ],
      "text/latex": [
       "\\begin{tabular}{r|lllllllll}\n",
       " age & prof & dep.cons & scz.cons & grav.cons & n.enfant & rs & ed & dr\\\\\n",
       "\\hline\n",
       "\t 31                 & autre              & 0                  & 0                  & 1                  & 2                  & 2                  & 1                  & 1                 \\\\\n",
       "\t 49                 & NA                 & 0                  & 0                  & 2                  & 7                  & 2                  & 2                  & 1                 \\\\\n",
       "\t 50                 & prof.intermediaire & 0                  & 0                  & 2                  & 2                  & 2                  & 3                  & 2                 \\\\\n",
       "\t 47                 & ouvrier            & 0                  & 0                  & 1                  & 0                  & 2                  & 2                  & 2                 \\\\\n",
       "\t 23                 & sans emploi        & 1                  & 0                  & 2                  & 1                  & 2                  & 2                  & 2                 \\\\\n",
       "\t 34                 & ouvrier            & 0                  & 0                  & 1                  & 3                  & 1                  & 2                  & 1                 \\\\\n",
       "\\end{tabular}\n"
      ],
      "text/markdown": [
       "\n",
       "age | prof | dep.cons | scz.cons | grav.cons | n.enfant | rs | ed | dr | \n",
       "|---|---|---|---|---|---|\n",
       "| 31                 | autre              | 0                  | 0                  | 1                  | 2                  | 2                  | 1                  | 1                  | \n",
       "| 49                 | NA                 | 0                  | 0                  | 2                  | 7                  | 2                  | 2                  | 1                  | \n",
       "| 50                 | prof.intermediaire | 0                  | 0                  | 2                  | 2                  | 2                  | 3                  | 2                  | \n",
       "| 47                 | ouvrier            | 0                  | 0                  | 1                  | 0                  | 2                  | 2                  | 2                  | \n",
       "| 23                 | sans emploi        | 1                  | 0                  | 2                  | 1                  | 2                  | 2                  | 2                  | \n",
       "| 34                 | ouvrier            | 0                  | 0                  | 1                  | 3                  | 1                  | 2                  | 1                  | \n",
       "\n",
       "\n"
      ],
      "text/plain": [
       "  age prof               dep.cons scz.cons grav.cons n.enfant rs ed dr\n",
       "1 31  autre              0        0        1         2        2  1  1 \n",
       "2 49  NA                 0        0        2         7        2  2  1 \n",
       "3 50  prof.intermediaire 0        0        2         2        2  3  2 \n",
       "4 47  ouvrier            0        0        1         0        2  2  2 \n",
       "5 23  sans emploi        1        0        2         1        2  2  2 \n",
       "6 34  ouvrier            0        0        1         3        1  2  1 "
      ]
     },
     "metadata": {},
     "output_type": "display_data"
    }
   ],
   "source": [
    "head(data)"
   ]
  },
  {
   "cell_type": "code",
   "execution_count": 3,
   "metadata": {},
   "outputs": [
    {
     "data": {
      "image/png": "[encoded data removed]",
      "text/plain": [
       "plot without title"
      ]
     },
     "metadata": {},
     "output_type": "display_data"
    }
   ],
   "source": [
    "plot(jitter(data$age),\n",
    "    jitter(data$n.enfant))"
   ]
  },
  {
   "cell_type": "code",
   "execution_count": 4,
   "metadata": {},
   "outputs": [
    {
     "data": {
      "text/html": [
       "0.43260389564375"
      ],
      "text/latex": [
       "0.43260389564375"
      ],
      "text/markdown": [
       "0.43260389564375"
      ],
      "text/plain": [
       "[1] 0.4326039"
      ]
     },
     "metadata": {},
     "output_type": "display_data"
    }
   ],
   "source": [
    "cor(data$age, data$n.enfant, use = 'complete.obs')"
   ]
  },
  {
   "cell_type": "code",
   "execution_count": 10,
   "metadata": {},
   "outputs": [
    {
     "data": {
      "text/html": [
       "0.18714276"
      ],
      "text/latex": [
       "0.18714276"
      ],
      "text/markdown": [
       "0.18714276"
      ],
      "text/plain": [
       "[1] 0.1871428"
      ]
     },
     "metadata": {},
     "output_type": "display_data"
    }
   ],
   "source": [
    "# Le pourcentage de variance partagé entre ces 2 variables est de 0.4326**2, soit\n",
    ".4326**2"
   ]
  },
  {
   "cell_type": "markdown",
   "metadata": {},
   "source": [
    "### relative risk and odds-ratio"
   ]
  },
  {
   "cell_type": "code",
   "execution_count": 13,
   "metadata": {},
   "outputs": [
    {
     "name": "stderr",
     "output_type": "stream",
     "text": [
      "Installing package into 'C:/R/library'\n",
      "(as 'lib' is unspecified)\n",
      "also installing the dependencies 'RcppArmadillo', 'cmprsk', 'etm', 'numDeriv', 'data.table', 'zoo'\n",
      "\n"
     ]
    },
    {
     "name": "stdout",
     "output_type": "stream",
     "text": [
      "package 'RcppArmadillo' successfully unpacked and MD5 sums checked\n",
      "package 'cmprsk' successfully unpacked and MD5 sums checked\n",
      "package 'etm' successfully unpacked and MD5 sums checked\n",
      "package 'numDeriv' successfully unpacked and MD5 sums checked\n",
      "package 'data.table' successfully unpacked and MD5 sums checked\n",
      "package 'zoo' successfully unpacked and MD5 sums checked\n",
      "package 'Epi' successfully unpacked and MD5 sums checked\n",
      "\n",
      "The downloaded binary packages are in\n",
      "\tC:\\Users\\Sébastien\\AppData\\Local\\Temp\\RtmpiOFd5f\\downloaded_packages\n"
     ]
    }
   ],
   "source": [
    "install.packages(\"Epi\", repos='http://cran.us.r-project.org')"
   ]
  },
  {
   "cell_type": "code",
   "execution_count": 12,
   "metadata": {},
   "outputs": [
    {
     "ename": "ERROR",
     "evalue": "Error in library(Epi): there is no package called 'Epi'\n",
     "output_type": "error",
     "traceback": [
      "Error in library(Epi): there is no package called 'Epi'\nTraceback:\n",
      "1. library(Epi)",
      "2. stop(txt, domain = NA)"
     ]
    }
   ],
   "source": [
    "library(Epi)"
   ]
  },
  {
   "cell_type": "code",
   "execution_count": 14,
   "metadata": {},
   "outputs": [
    {
     "name": "stdout",
     "output_type": "stream",
     "text": [
      "'data.frame':\t799 obs. of  9 variables:\n",
      " $ age      : int  31 49 50 47 23 34 24 52 42 45 ...\n",
      " $ prof     : Factor w/ 8 levels \"agriculteur\",..: 3 NA 7 6 8 6 3 2 6 6 ...\n",
      " $ dep.cons : int  0 0 0 0 1 0 1 0 1 0 ...\n",
      " $ scz.cons : int  0 0 0 0 0 0 0 0 0 0 ...\n",
      " $ grav.cons: int  1 2 2 1 2 1 5 1 5 5 ...\n",
      " $ n.enfant : int  2 7 2 0 1 3 5 2 1 2 ...\n",
      " $ rs       : int  2 2 2 2 2 1 3 2 3 2 ...\n",
      " $ ed       : int  1 2 3 2 2 2 3 2 3 2 ...\n",
      " $ dr       : int  1 1 2 2 2 1 2 2 1 2 ...\n"
     ]
    }
   ],
   "source": [
    "str(data)"
   ]
  },
  {
   "cell_type": "code",
   "execution_count": 15,
   "metadata": {},
   "outputs": [],
   "source": [
    "data$ed.b <- ifelse(data$ed >2, 1, 0)"
   ]
  },
  {
   "cell_type": "code",
   "execution_count": 16,
   "metadata": {},
   "outputs": [
    {
     "data": {
      "text/plain": [
       "   \n",
       "      1   2   3\n",
       "  0 315 155   0\n",
       "  1   0   0 222"
      ]
     },
     "metadata": {},
     "output_type": "display_data"
    }
   ],
   "source": [
    "table(data$ed.b, data$ed)"
   ]
  },
  {
   "cell_type": "code",
   "execution_count": 17,
   "metadata": {},
   "outputs": [],
   "source": [
    "library(Epi)"
   ]
  },
  {
   "cell_type": "code",
   "execution_count": 18,
   "metadata": {},
   "outputs": [
    {
     "name": "stdout",
     "output_type": "stream",
     "text": [
      "2 by 2 table analysis: \n",
      "------------------------------------------------------ \n",
      "Outcome   : 0 \n",
      "Comparing : 0 vs. 1 \n",
      "\n",
      "    0   1    P(0) 95% conf. interval\n",
      "0 126  96  0.5676    0.5016   0.6312\n",
      "1 135 335  0.2872    0.2481   0.3298\n",
      "\n",
      "                                   95% conf. interval\n",
      "             Relative Risk: 1.9760    1.6456   2.3726\n",
      "         Sample Odds Ratio: 3.2569    2.3361   4.5408\n",
      "Conditional MLE Odds Ratio: 3.2508    2.3037   4.6035\n",
      "    Probability difference: 0.2803    0.2020   0.3549\n",
      "\n",
      "             Exact P-value: 0 \n",
      "        Asymptotic P-value: 0 \n",
      "------------------------------------------------------\n"
     ]
    }
   ],
   "source": [
    "twoby2(1 - data$ed.b, 1 - data$dep.cons)"
   ]
  },
  {
   "cell_type": "code",
   "execution_count": null,
   "metadata": {},
   "outputs": [],
   "source": []
  }
 ],
 "metadata": {
  "kernelspec": {
   "display_name": "R",
   "language": "R",
   "name": "ir"
  },
  "language_info": {
   "codemirror_mode": "r",
   "file_extension": ".r",
   "mimetype": "text/x-r-source",
   "name": "R",
   "pygments_lexer": "r",
   "version": "3.5.1"
  }
 },
 "nbformat": 4,
 "nbformat_minor": 2
}
