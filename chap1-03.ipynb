{
 "cells": [
  {
   "cell_type": "code",
   "execution_count": 1,
   "metadata": {},
   "outputs": [],
   "source": [
    "data<-c(1,2,3,4,5,6)"
   ]
  },
  {
   "cell_type": "code",
   "execution_count": 2,
   "metadata": {},
   "outputs": [
    {
     "data": {
      "text/html": [
       "3.5"
      ],
      "text/latex": [
       "3.5"
      ],
      "text/markdown": [
       "3.5"
      ],
      "text/plain": [
       "[1] 3.5"
      ]
     },
     "metadata": {},
     "output_type": "display_data"
    }
   ],
   "source": [
    "mean(data)"
   ]
  },
  {
   "cell_type": "code",
   "execution_count": 4,
   "metadata": {},
   "outputs": [
    {
     "data": {
      "text/html": [
       "1.87082869338697"
      ],
      "text/latex": [
       "1.87082869338697"
      ],
      "text/markdown": [
       "1.87082869338697"
      ],
      "text/plain": [
       "[1] 1.870829"
      ]
     },
     "metadata": {},
     "output_type": "display_data"
    }
   ],
   "source": [
    "sd(data)"
   ]
  },
  {
   "cell_type": "code",
   "execution_count": 5,
   "metadata": {},
   "outputs": [
    {
     "data": {
      "text/html": [
       "3.5"
      ],
      "text/latex": [
       "3.5"
      ],
      "text/markdown": [
       "3.5"
      ],
      "text/plain": [
       "[1] 3.5"
      ]
     },
     "metadata": {},
     "output_type": "display_data"
    }
   ],
   "source": [
    "var(data)"
   ]
  },
  {
   "cell_type": "code",
   "execution_count": 6,
   "metadata": {},
   "outputs": [
    {
     "data": {
      "text/html": [
       "1.87082869338697"
      ],
      "text/latex": [
       "1.87082869338697"
      ],
      "text/markdown": [
       "1.87082869338697"
      ],
      "text/plain": [
       "[1] 1.870829"
      ]
     },
     "metadata": {},
     "output_type": "display_data"
    }
   ],
   "source": [
    "sqrt(var(data))"
   ]
  },
  {
   "cell_type": "code",
   "execution_count": 15,
   "metadata": {},
   "outputs": [
    {
     "data": {
      "text/html": [
       "2.5"
      ],
      "text/latex": [
       "2.5"
      ],
      "text/markdown": [
       "2.5"
      ],
      "text/plain": [
       "[1] 2.5"
      ]
     },
     "metadata": {},
     "output_type": "display_data"
    }
   ],
   "source": [
    "IQR(data)"
   ]
  },
  {
   "cell_type": "code",
   "execution_count": 35,
   "metadata": {},
   "outputs": [
    {
     "name": "stderr",
     "output_type": "stream",
     "text": [
      "Installing package into 'C:/R/library'\n",
      "(as 'lib' is unspecified)\n"
     ]
    },
    {
     "name": "stdout",
     "output_type": "stream",
     "text": [
      "package 'prettyR' successfully unpacked and MD5 sums checked\n",
      "\n",
      "The downloaded binary packages are in\n",
      "\tC:\\Users\\Sébastien\\AppData\\Local\\Temp\\RtmpUfPFPb\\downloaded_packages\n",
      "Description of data \n"
     ]
    },
    {
     "data": {
      "text/plain": [
       "\n",
       " Numeric \n",
       "           mean median    var    sd valid.n\n",
       "age       38.90     37 176.38 13.28     797\n",
       "dep.cons   0.40      0   0.24  0.49     799\n",
       "scz.cons   0.08      0   0.08  0.28     799\n",
       "grav.cons  3.64      4   2.73  1.65     795\n",
       "n.enfant   1.76      1   3.36  1.83     773\n",
       "rs         2.06      2   0.77  0.88     696\n",
       "ed         1.87      2   0.76  0.87     692\n",
       "dr         2.15      2   0.69  0.83     688\n",
       "\n",
       " Factor \n",
       "         \n",
       "prof      ouvrier sans emploi employe artisan prof.intermediaire autre cadre\n",
       "  Count    227.00      222.00   135.0   90.00              58.00 31.00    24\n",
       "  Percent   28.41       27.78    16.9   11.26               7.26  3.88     3\n",
       "         \n",
       "prof      agriculteur <NA>\n",
       "  Count          6.00 6.00\n",
       "  Percent        0.75 0.75\n",
       "Mode ouvrier "
      ]
     },
     "metadata": {},
     "output_type": "display_data"
    }
   ],
   "source": [
    "install.packages(\"prettyR\", repos='http://cran.us.r-project.org')\n",
    "library(prettyR)\n",
    "describe(data)"
   ]
  },
  {
   "cell_type": "code",
   "execution_count": 47,
   "metadata": {},
   "outputs": [
    {
     "name": "stdout",
     "output_type": "stream",
     "text": [
      "Description of data \n"
     ]
    },
    {
     "data": {
      "text/plain": [
       "\n",
       " Numeric \n",
       "           mean    sd median min max valid.n\n",
       "age       38.90 13.28     37  19  83     797\n",
       "dep.cons   0.40  0.49      0   0   1     799\n",
       "scz.cons   0.08  0.28      0   0   1     799\n",
       "grav.cons  3.64  1.65      4   1   7     795\n",
       "n.enfant   1.76  1.83      1   0  13     773\n",
       "rs         2.06  0.88      2   1   3     696\n",
       "ed         1.87  0.87      2   1   3     692\n",
       "dr         2.15  0.83      2   1   3     688\n",
       "\n",
       " Factor \n",
       "         \n",
       "prof      ouvrier sans emploi employe artisan prof.intermediaire autre cadre\n",
       "  Count    227.00      222.00   135.0   90.00              58.00 31.00    24\n",
       "  Percent   28.41       27.78    16.9   11.26               7.26  3.88     3\n",
       "         \n",
       "prof      agriculteur <NA>\n",
       "  Count          6.00 6.00\n",
       "  Percent        0.75 0.75\n",
       "Mode ouvrier "
      ]
     },
     "metadata": {},
     "output_type": "display_data"
    }
   ],
   "source": [
    "describe(data, num.desc=c(\n",
    "    'mean', 'sd', 'median', 'min', 'max', 'valid.n')) # additional/other parameters"
   ]
  },
  {
   "cell_type": "code",
   "execution_count": 17,
   "metadata": {},
   "outputs": [
    {
     "data": {
      "text/plain": [
       "   Min. 1st Qu.  Median    Mean 3rd Qu.    Max. \n",
       "   1.00    2.25    3.50    3.50    4.75    6.00 "
      ]
     },
     "metadata": {},
     "output_type": "display_data"
    }
   ],
   "source": [
    "summary(data)"
   ]
  },
  {
   "cell_type": "markdown",
   "metadata": {},
   "source": [
    "### loading of the csv"
   ]
  },
  {
   "cell_type": "code",
   "execution_count": 20,
   "metadata": {},
   "outputs": [],
   "source": [
    "data<-read.csv2('../data/smp1.csv')"
   ]
  },
  {
   "cell_type": "code",
   "execution_count": 21,
   "metadata": {},
   "outputs": [
    {
     "name": "stdout",
     "output_type": "stream",
     "text": [
      "'data.frame':\t799 obs. of  9 variables:\n",
      " $ age      : int  31 49 50 47 23 34 24 52 42 45 ...\n",
      " $ prof     : Factor w/ 8 levels \"agriculteur\",..: 3 NA 7 6 8 6 3 2 6 6 ...\n",
      " $ dep.cons : int  0 0 0 0 1 0 1 0 1 0 ...\n",
      " $ scz.cons : int  0 0 0 0 0 0 0 0 0 0 ...\n",
      " $ grav.cons: int  1 2 2 1 2 1 5 1 5 5 ...\n",
      " $ n.enfant : int  2 7 2 0 1 3 5 2 1 2 ...\n",
      " $ rs       : int  2 2 2 2 2 1 3 2 3 2 ...\n",
      " $ ed       : int  1 2 3 2 2 2 3 2 3 2 ...\n",
      " $ dr       : int  1 1 2 2 2 1 2 2 1 2 ...\n"
     ]
    }
   ],
   "source": [
    "str(data)"
   ]
  },
  {
   "cell_type": "code",
   "execution_count": 42,
   "metadata": {},
   "outputs": [
    {
     "data": {
      "text/html": [
       "<table>\n",
       "<thead><tr><th scope=col>age</th><th scope=col>prof</th><th scope=col>dep.cons</th><th scope=col>scz.cons</th><th scope=col>grav.cons</th></tr></thead>\n",
       "<tbody>\n",
       "\t<tr><td>31   </td><td>autre</td><td>0    </td><td>0    </td><td>1    </td></tr>\n",
       "\t<tr><td>49   </td><td>NA   </td><td>0    </td><td>0    </td><td>2    </td></tr>\n",
       "</tbody>\n",
       "</table>\n"
      ],
      "text/latex": [
       "\\begin{tabular}{r|lllll}\n",
       " age & prof & dep.cons & scz.cons & grav.cons\\\\\n",
       "\\hline\n",
       "\t 31    & autre & 0     & 0     & 1    \\\\\n",
       "\t 49    & NA    & 0     & 0     & 2    \\\\\n",
       "\\end{tabular}\n"
      ],
      "text/markdown": [
       "\n",
       "age | prof | dep.cons | scz.cons | grav.cons | \n",
       "|---|---|\n",
       "| 31    | autre | 0     | 0     | 1     | \n",
       "| 49    | NA    | 0     | 0     | 2     | \n",
       "\n",
       "\n"
      ],
      "text/plain": [
       "  age prof  dep.cons scz.cons grav.cons\n",
       "1 31  autre 0        0        1        \n",
       "2 49  NA    0        0        2        "
      ]
     },
     "metadata": {},
     "output_type": "display_data"
    }
   ],
   "source": [
    "data[1:2,1:5]"
   ]
  },
  {
   "cell_type": "code",
   "execution_count": 23,
   "metadata": {
    "scrolled": true
   },
   "outputs": [
    {
     "data": {
      "text/plain": [
       "      age                       prof        dep.cons         scz.cons     \n",
       " Min.   :19.0   ouvrier           :227   Min.   :0.0000   Min.   :0.0000  \n",
       " 1st Qu.:28.0   sans emploi       :222   1st Qu.:0.0000   1st Qu.:0.0000  \n",
       " Median :37.0   employe           :135   Median :0.0000   Median :0.0000  \n",
       " Mean   :38.9   artisan           : 90   Mean   :0.3967   Mean   :0.0826  \n",
       " 3rd Qu.:48.0   prof.intermediaire: 58   3rd Qu.:1.0000   3rd Qu.:0.0000  \n",
       " Max.   :83.0   (Other)           : 61   Max.   :1.0000   Max.   :1.0000  \n",
       " NA's   :2      NA's              :  6                                    \n",
       "   grav.cons        n.enfant            rs              ed       \n",
       " Min.   :1.000   Min.   : 0.000   Min.   :1.000   Min.   :1.000  \n",
       " 1st Qu.:2.000   1st Qu.: 0.000   1st Qu.:1.000   1st Qu.:1.000  \n",
       " Median :4.000   Median : 1.000   Median :2.000   Median :2.000  \n",
       " Mean   :3.643   Mean   : 1.755   Mean   :2.057   Mean   :1.866  \n",
       " 3rd Qu.:5.000   3rd Qu.: 3.000   3rd Qu.:3.000   3rd Qu.:3.000  \n",
       " Max.   :7.000   Max.   :13.000   Max.   :3.000   Max.   :3.000  \n",
       " NA's   :4       NA's   :26       NA's   :103     NA's   :107    \n",
       "       dr       \n",
       " Min.   :1.000  \n",
       " 1st Qu.:1.000  \n",
       " Median :2.000  \n",
       " Mean   :2.153  \n",
       " 3rd Qu.:3.000  \n",
       " Max.   :3.000  \n",
       " NA's   :111    "
      ]
     },
     "metadata": {},
     "output_type": "display_data"
    }
   ],
   "source": [
    "summary(data)"
   ]
  },
  {
   "cell_type": "code",
   "execution_count": 25,
   "metadata": {},
   "outputs": [
    {
     "data": {
      "text/html": [
       "38.8996235884567"
      ],
      "text/latex": [
       "38.8996235884567"
      ],
      "text/markdown": [
       "38.8996235884567"
      ],
      "text/plain": [
       "[1] 38.89962"
      ]
     },
     "metadata": {},
     "output_type": "display_data"
    }
   ],
   "source": [
    "mean(data$age, na.rm=TRUE) # remove NaN"
   ]
  },
  {
   "cell_type": "code",
   "execution_count": 28,
   "metadata": {},
   "outputs": [
    {
     "data": {
      "text/plain": [
       "data$prof\n",
       "       agriculteur            artisan              autre              cadre \n",
       "                 6                 90                 31                 24 \n",
       "           employe            ouvrier prof.intermediaire        sans emploi \n",
       "               135                227                 58                222 \n",
       "              <NA> \n",
       "                 6 "
      ]
     },
     "metadata": {},
     "output_type": "display_data"
    }
   ],
   "source": [
    "# in R, categorical variables are called Factors\n",
    "table(data$prof, deparse.level=2, useNA='always')"
   ]
  },
  {
   "cell_type": "code",
   "execution_count": 29,
   "metadata": {},
   "outputs": [
    {
     "data": {
      "text/html": [
       "<ol class=list-inline>\n",
       "\t<li>'age'</li>\n",
       "\t<li>'prof'</li>\n",
       "\t<li>'dep.cons'</li>\n",
       "\t<li>'scz.cons'</li>\n",
       "\t<li>'grav.cons'</li>\n",
       "\t<li>'n.enfant'</li>\n",
       "\t<li>'rs'</li>\n",
       "\t<li>'ed'</li>\n",
       "\t<li>'dr'</li>\n",
       "</ol>\n"
      ],
      "text/latex": [
       "\\begin{enumerate*}\n",
       "\\item 'age'\n",
       "\\item 'prof'\n",
       "\\item 'dep.cons'\n",
       "\\item 'scz.cons'\n",
       "\\item 'grav.cons'\n",
       "\\item 'n.enfant'\n",
       "\\item 'rs'\n",
       "\\item 'ed'\n",
       "\\item 'dr'\n",
       "\\end{enumerate*}\n"
      ],
      "text/markdown": [
       "1. 'age'\n",
       "2. 'prof'\n",
       "3. 'dep.cons'\n",
       "4. 'scz.cons'\n",
       "5. 'grav.cons'\n",
       "6. 'n.enfant'\n",
       "7. 'rs'\n",
       "8. 'ed'\n",
       "9. 'dr'\n",
       "\n",
       "\n"
      ],
      "text/plain": [
       "[1] \"age\"       \"prof\"      \"dep.cons\"  \"scz.cons\"  \"grav.cons\" \"n.enfant\" \n",
       "[7] \"rs\"        \"ed\"        \"dr\"       "
      ]
     },
     "metadata": {},
     "output_type": "display_data"
    }
   ],
   "source": [
    "names(data)"
   ]
  },
  {
   "cell_type": "code",
   "execution_count": 31,
   "metadata": {},
   "outputs": [
    {
     "data": {
      "text/plain": [
       "\n",
       "FALSE  TRUE \n",
       "  715    58 "
      ]
     },
     "metadata": {},
     "output_type": "display_data"
    }
   ],
   "source": [
    "table(data$n.enfant > 4)"
   ]
  },
  {
   "cell_type": "code",
   "execution_count": 49,
   "metadata": {},
   "outputs": [
    {
     "data": {
      "text/html": [
       "<ol class=list-inline>\n",
       "\t<li>autre</li>\n",
       "\t<li>&lt;NA&gt;</li>\n",
       "\t<li>prof.intermediaire</li>\n",
       "\t<li>ouvrier</li>\n",
       "\t<li>sans emploi</li>\n",
       "\t<li>artisan</li>\n",
       "\t<li>employe</li>\n",
       "\t<li>agriculteur</li>\n",
       "\t<li>cadre</li>\n",
       "</ol>\n",
       "\n",
       "<details>\n",
       "\t<summary style=display:list-item;cursor:pointer>\n",
       "\t\t<strong>Levels</strong>:\n",
       "\t</summary>\n",
       "\t<ol class=list-inline>\n",
       "\t\t<li>'agriculteur'</li>\n",
       "\t\t<li>'artisan'</li>\n",
       "\t\t<li>'autre'</li>\n",
       "\t\t<li>'cadre'</li>\n",
       "\t\t<li>'employe'</li>\n",
       "\t\t<li>'ouvrier'</li>\n",
       "\t\t<li>'prof.intermediaire'</li>\n",
       "\t\t<li>'sans emploi'</li>\n",
       "\t</ol>\n",
       "</details>"
      ],
      "text/latex": [
       "\\begin{enumerate*}\n",
       "\\item autre\n",
       "\\item <NA>\n",
       "\\item prof.intermediaire\n",
       "\\item ouvrier\n",
       "\\item sans emploi\n",
       "\\item artisan\n",
       "\\item employe\n",
       "\\item agriculteur\n",
       "\\item cadre\n",
       "\\end{enumerate*}\n",
       "\n",
       "\\emph{Levels}: \\begin{enumerate*}\n",
       "\\item 'agriculteur'\n",
       "\\item 'artisan'\n",
       "\\item 'autre'\n",
       "\\item 'cadre'\n",
       "\\item 'employe'\n",
       "\\item 'ouvrier'\n",
       "\\item 'prof.intermediaire'\n",
       "\\item 'sans emploi'\n",
       "\\end{enumerate*}\n"
      ],
      "text/markdown": [
       "1. autre\n",
       "2. &lt;NA&gt;\n",
       "3. prof.intermediaire\n",
       "4. ouvrier\n",
       "5. sans emploi\n",
       "6. artisan\n",
       "7. employe\n",
       "8. agriculteur\n",
       "9. cadre\n",
       "\n",
       "\n",
       "\n",
       "**Levels**: 1. 'agriculteur'\n",
       "2. 'artisan'\n",
       "3. 'autre'\n",
       "4. 'cadre'\n",
       "5. 'employe'\n",
       "6. 'ouvrier'\n",
       "7. 'prof.intermediaire'\n",
       "8. 'sans emploi'\n",
       "\n",
       "\n"
      ],
      "text/plain": [
       "[1] autre              <NA>               prof.intermediaire ouvrier           \n",
       "[5] sans emploi        artisan            employe            agriculteur       \n",
       "[9] cadre             \n",
       "8 Levels: agriculteur artisan autre cadre employe ... sans emploi"
      ]
     },
     "metadata": {},
     "output_type": "display_data"
    }
   ],
   "source": [
    "unique(data$prof)"
   ]
  },
  {
   "cell_type": "code",
   "execution_count": 51,
   "metadata": {},
   "outputs": [
    {
     "data": {
      "text/plain": [
       "data$prof\n",
       "       agriculteur            artisan              autre              cadre \n",
       "                 6                 90                 31                 24 \n",
       "           employe            ouvrier prof.intermediaire        sans emploi \n",
       "               135                227                 58                222 \n",
       "              <NA> \n",
       "                 6 "
      ]
     },
     "metadata": {},
     "output_type": "display_data"
    }
   ],
   "source": [
    "table(data$prof, deparse.level=2, useNA='always')"
   ]
  },
  {
   "cell_type": "code",
   "execution_count": 53,
   "metadata": {},
   "outputs": [
    {
     "data": {
      "text/html": [
       "\n",
       "<details>\n",
       "\t<summary style=display:list-item;cursor:pointer>\n",
       "\t\t<strong>Levels</strong>:\n",
       "\t</summary>\n",
       "\t<ol class=list-inline>\n",
       "\t\t<li>'Non'</li>\n",
       "\t\t<li>'Oui'</li>\n",
       "\t</ol>\n",
       "</details>"
      ],
      "text/latex": [
       "\n",
       "\\emph{Levels}: \\begin{enumerate*}\n",
       "\\item 'Non'\n",
       "\\item 'Oui'\n",
       "\\end{enumerate*}\n"
      ],
      "text/markdown": [
       "\n",
       "**Levels**: 1. 'Non'\n",
       "2. 'Oui'\n",
       "\n",
       "\n"
      ],
      "text/plain": [
       "factor(0)\n",
       "Levels: Non Oui"
      ]
     },
     "metadata": {},
     "output_type": "display_data"
    }
   ],
   "source": [
    "factor(data$abus, levels=c(0,1), labels=c(\"Non\", \"Oui\"))\n",
    "# levels and labels associated to categorical values"
   ]
  },
  {
   "cell_type": "code",
   "execution_count": 54,
   "metadata": {},
   "outputs": [],
   "source": [
    "abus <- factor(data$abus)"
   ]
  },
  {
   "cell_type": "code",
   "execution_count": 57,
   "metadata": {},
   "outputs": [
    {
     "data": {
      "text/plain": [
       "< table of extent 0 >"
      ]
     },
     "metadata": {},
     "output_type": "display_data"
    }
   ],
   "source": [
    "table(abus)"
   ]
  },
  {
   "cell_type": "code",
   "execution_count": 58,
   "metadata": {},
   "outputs": [
    {
     "data": {
      "image/png": "[encoded data removed]",
      "text/plain": [
       "Plot with title \"Histogram of data$age\""
      ]
     },
     "metadata": {},
     "output_type": "display_data"
    }
   ],
   "source": [
    "hist(data$age, nclass=8, prob=TRUE, las=1) # probabilty and regular axes"
   ]
  },
  {
   "cell_type": "code",
   "execution_count": null,
   "metadata": {},
   "outputs": [],
   "source": []
  }
 ],
 "metadata": {
  "kernelspec": {
   "display_name": "R",
   "language": "R",
   "name": "ir"
  },
  "language_info": {
   "codemirror_mode": "r",
   "file_extension": ".r",
   "mimetype": "text/x-r-source",
   "name": "R",
   "pygments_lexer": "r",
   "version": "3.5.1"
  }
 },
 "nbformat": 4,
 "nbformat_minor": 2
}
