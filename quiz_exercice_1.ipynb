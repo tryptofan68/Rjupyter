{
 "cells": [
  {
   "cell_type": "markdown",
   "metadata": {},
   "source": [
    "#### 1. Nous souhaitons afficher la valeur minimale observée dans une série de 10 observations incluant 2 valeurs manquantes. La variable est appelée x. L'instruction min(x) fournit-elle le résultat escompté ?"
   ]
  },
  {
   "cell_type": "code",
   "execution_count": 1,
   "metadata": {},
   "outputs": [],
   "source": [
    "data<-c(1,4,0,NA,5,13,-34,NA,100,-0)"
   ]
  },
  {
   "cell_type": "code",
   "execution_count": 2,
   "metadata": {},
   "outputs": [
    {
     "data": {
      "text/html": [
       "&lt;NA&gt;"
      ],
      "text/latex": [
       "<NA>"
      ],
      "text/markdown": [
       "&lt;NA&gt;"
      ],
      "text/plain": [
       "[1] NA"
      ]
     },
     "metadata": {},
     "output_type": "display_data"
    }
   ],
   "source": [
    "min(data)"
   ]
  },
  {
   "cell_type": "code",
   "execution_count": 3,
   "metadata": {},
   "outputs": [
    {
     "data": {
      "text/html": [
       "-34"
      ],
      "text/latex": [
       "-34"
      ],
      "text/markdown": [
       "-34"
      ],
      "text/plain": [
       "[1] -34"
      ]
     },
     "metadata": {},
     "output_type": "display_data"
    }
   ],
   "source": [
    "min(data, na.rm=TRUE)"
   ]
  },
  {
   "cell_type": "markdown",
   "metadata": {},
   "source": [
    "#### 2. Nous souhaitons associer les étiquettes « Non » et « Oui » aux valeurs 0 et 1, respectivement, d'une variable appelée z. Quelle commande pouvons-nous utiliser ?"
   ]
  },
  {
   "cell_type": "code",
   "execution_count": 10,
   "metadata": {
    "scrolled": true
   },
   "outputs": [
    {
     "data": {
      "text/html": [
       "<ol class=list-inline>\n",
       "\t<li>Non</li>\n",
       "\t<li>Oui</li>\n",
       "\t<li>Oui</li>\n",
       "\t<li>Oui</li>\n",
       "\t<li>Non</li>\n",
       "\t<li>Oui</li>\n",
       "\t<li>Oui</li>\n",
       "\t<li>Oui</li>\n",
       "\t<li>Non</li>\n",
       "\t<li>Non</li>\n",
       "\t<li>Oui</li>\n",
       "\t<li>Non</li>\n",
       "</ol>\n",
       "\n",
       "<details>\n",
       "\t<summary style=display:list-item;cursor:pointer>\n",
       "\t\t<strong>Levels</strong>:\n",
       "\t</summary>\n",
       "\t<ol class=list-inline>\n",
       "\t\t<li>'Non'</li>\n",
       "\t\t<li>'Oui'</li>\n",
       "\t</ol>\n",
       "</details>"
      ],
      "text/latex": [
       "\\begin{enumerate*}\n",
       "\\item Non\n",
       "\\item Oui\n",
       "\\item Oui\n",
       "\\item Oui\n",
       "\\item Non\n",
       "\\item Oui\n",
       "\\item Oui\n",
       "\\item Oui\n",
       "\\item Non\n",
       "\\item Non\n",
       "\\item Oui\n",
       "\\item Non\n",
       "\\end{enumerate*}\n",
       "\n",
       "\\emph{Levels}: \\begin{enumerate*}\n",
       "\\item 'Non'\n",
       "\\item 'Oui'\n",
       "\\end{enumerate*}\n"
      ],
      "text/markdown": [
       "1. Non\n",
       "2. Oui\n",
       "3. Oui\n",
       "4. Oui\n",
       "5. Non\n",
       "6. Oui\n",
       "7. Oui\n",
       "8. Oui\n",
       "9. Non\n",
       "10. Non\n",
       "11. Oui\n",
       "12. Non\n",
       "\n",
       "\n",
       "\n",
       "**Levels**: 1. 'Non'\n",
       "2. 'Oui'\n",
       "\n",
       "\n"
      ],
      "text/plain": [
       " [1] Non Oui Oui Oui Non Oui Oui Oui Non Non Oui Non\n",
       "Levels: Non Oui"
      ]
     },
     "metadata": {},
     "output_type": "display_data"
    }
   ],
   "source": [
    "z<-c(0,1,1,1,0,1,1,1,0,0,1,0)\n",
    "factor(z, labels=c('Non', 'Oui'))\n",
    "# no need for factor(z, levels=c(0,1), labels=c('Non', 'Oui'))"
   ]
  },
  {
   "cell_type": "markdown",
   "metadata": {},
   "source": [
    "#### 3. Pour une variable qualitative z présentant des valeurs manquantes, la commande sum(table(z)) fournit :"
   ]
  },
  {
   "cell_type": "code",
   "execution_count": 12,
   "metadata": {},
   "outputs": [
    {
     "data": {
      "text/plain": [
       "val\n",
       "-12   1   2   3   5   6 \n",
       "  1   1   1   1   1   1 "
      ]
     },
     "metadata": {},
     "output_type": "display_data"
    }
   ],
   "source": [
    "val<-c(1,2,3,NA, 5,6,-12, NA)\n",
    "table(val)"
   ]
  },
  {
   "cell_type": "code",
   "execution_count": 13,
   "metadata": {},
   "outputs": [
    {
     "data": {
      "text/html": [
       "6"
      ],
      "text/latex": [
       "6"
      ],
      "text/markdown": [
       "6"
      ],
      "text/plain": [
       "[1] 6"
      ]
     },
     "metadata": {},
     "output_type": "display_data"
    }
   ],
   "source": [
    "sum(table(val))"
   ]
  },
  {
   "cell_type": "markdown",
   "metadata": {},
   "source": [
    "L'effectif total observé (sans les individus ayant des données manquantes)"
   ]
  },
  {
   "cell_type": "code",
   "execution_count": 15,
   "metadata": {},
   "outputs": [
    {
     "data": {
      "text/plain": [
       "val\n",
       " -12    1    2    3    5    6 <NA> \n",
       "   1    1    1    1    1    1    2 "
      ]
     },
     "metadata": {},
     "output_type": "display_data"
    }
   ],
   "source": [
    "table(val, useNA='always')"
   ]
  },
  {
   "cell_type": "code",
   "execution_count": 14,
   "metadata": {},
   "outputs": [
    {
     "data": {
      "text/html": [
       "8"
      ],
      "text/latex": [
       "8"
      ],
      "text/markdown": [
       "8"
      ],
      "text/plain": [
       "[1] 8"
      ]
     },
     "metadata": {},
     "output_type": "display_data"
    }
   ],
   "source": [
    "sum(table(val, useNA='always'))"
   ]
  },
  {
   "cell_type": "markdown",
   "metadata": {},
   "source": [
    "#### 4. Ouvrez le fichier smp1.csv dans un éditeur de texte (type bloc-note, Word...) et cochez la proposition correspondant à la première ligne (avec ou sans sans guillemets autour des noms de variables) :"
   ]
  },
  {
   "cell_type": "code",
   "execution_count": 30,
   "metadata": {},
   "outputs": [],
   "source": [
    "# executing cat -head 1 ../data/smp1.csv"
   ]
  },
  {
   "cell_type": "markdown",
   "metadata": {},
   "source": [
    "#### 5. Donnez la borne supérieure de l'intervalle interquartile pour la variable dur.interv en considérant l'ensemble des individus."
   ]
  },
  {
   "cell_type": "code",
   "execution_count": 53,
   "metadata": {},
   "outputs": [],
   "source": [
    "smp <- read.csv2(\"../data/smp2.csv\")"
   ]
  },
  {
   "cell_type": "code",
   "execution_count": 37,
   "metadata": {
    "scrolled": true
   },
   "outputs": [
    {
     "name": "stdout",
     "output_type": "stream",
     "text": [
      "'data.frame':\t799 obs. of  26 variables:\n",
      " $ age         : int  31 49 50 47 23 34 24 52 42 45 ...\n",
      " $ prof        : Factor w/ 8 levels \"agriculteur\",..: 3 NA 7 6 8 6 3 2 6 6 ...\n",
      " $ duree       : int  4 NA 5 NA 4 NA NA 5 4 NA ...\n",
      " $ discip      : int  0 0 0 0 1 0 0 0 1 0 ...\n",
      " $ n.enfant    : int  2 7 2 0 1 3 5 2 1 2 ...\n",
      " $ n.fratrie   : int  4 3 2 6 6 2 3 9 12 5 ...\n",
      " $ ecole       : int  1 2 2 1 1 2 1 2 1 2 ...\n",
      " $ separation  : int  0 1 0 1 1 0 1 0 1 0 ...\n",
      " $ juge.enfant : int  0 0 0 0 NA 0 1 0 1 0 ...\n",
      " $ place       : int  0 0 0 1 1 0 1 0 0 0 ...\n",
      " $ abus        : int  0 0 0 0 0 0 0 0 1 1 ...\n",
      " $ grav.cons   : int  1 2 2 1 2 1 5 1 5 5 ...\n",
      " $ dep.cons    : int  0 0 0 0 1 0 1 0 1 0 ...\n",
      " $ ago.cons    : int  1 0 0 0 0 0 0 0 0 0 ...\n",
      " $ ptsd.cons   : int  0 0 0 0 0 0 0 0 0 0 ...\n",
      " $ alc.cons    : int  0 0 0 0 0 0 0 0 1 1 ...\n",
      " $ subst.cons  : int  0 0 0 0 0 0 1 0 1 0 ...\n",
      " $ scz.cons    : int  0 0 0 0 0 0 0 0 0 0 ...\n",
      " $ char        : int  1 1 1 1 1 1 1 1 4 1 ...\n",
      " $ rs          : int  2 2 2 2 2 1 3 2 3 2 ...\n",
      " $ ed          : int  1 2 3 2 2 2 3 2 3 2 ...\n",
      " $ dr          : int  1 1 2 2 2 1 2 2 1 2 ...\n",
      " $ suicide.s   : int  0 0 0 1 0 0 3 0 4 0 ...\n",
      " $ suicide.hr  : int  0 0 0 0 0 0 1 0 1 0 ...\n",
      " $ suicide.past: int  0 0 0 0 1 0 1 0 1 0 ...\n",
      " $ dur.interv  : int  NA 70 NA 105 NA NA 105 84 78 60 ...\n"
     ]
    }
   ],
   "source": [
    "str(smp)"
   ]
  },
  {
   "cell_type": "code",
   "execution_count": 38,
   "metadata": {},
   "outputs": [
    {
     "data": {
      "text/html": [
       "<ol class=list-inline>\n",
       "\t<li>'age'</li>\n",
       "\t<li>'prof'</li>\n",
       "\t<li>'duree'</li>\n",
       "\t<li>'discip'</li>\n",
       "\t<li>'n.enfant'</li>\n",
       "\t<li>'n.fratrie'</li>\n",
       "\t<li>'ecole'</li>\n",
       "\t<li>'separation'</li>\n",
       "\t<li>'juge.enfant'</li>\n",
       "\t<li>'place'</li>\n",
       "\t<li>'abus'</li>\n",
       "\t<li>'grav.cons'</li>\n",
       "\t<li>'dep.cons'</li>\n",
       "\t<li>'ago.cons'</li>\n",
       "\t<li>'ptsd.cons'</li>\n",
       "\t<li>'alc.cons'</li>\n",
       "\t<li>'subst.cons'</li>\n",
       "\t<li>'scz.cons'</li>\n",
       "\t<li>'char'</li>\n",
       "\t<li>'rs'</li>\n",
       "\t<li>'ed'</li>\n",
       "\t<li>'dr'</li>\n",
       "\t<li>'suicide.s'</li>\n",
       "\t<li>'suicide.hr'</li>\n",
       "\t<li>'suicide.past'</li>\n",
       "\t<li>'dur.interv'</li>\n",
       "</ol>\n"
      ],
      "text/latex": [
       "\\begin{enumerate*}\n",
       "\\item 'age'\n",
       "\\item 'prof'\n",
       "\\item 'duree'\n",
       "\\item 'discip'\n",
       "\\item 'n.enfant'\n",
       "\\item 'n.fratrie'\n",
       "\\item 'ecole'\n",
       "\\item 'separation'\n",
       "\\item 'juge.enfant'\n",
       "\\item 'place'\n",
       "\\item 'abus'\n",
       "\\item 'grav.cons'\n",
       "\\item 'dep.cons'\n",
       "\\item 'ago.cons'\n",
       "\\item 'ptsd.cons'\n",
       "\\item 'alc.cons'\n",
       "\\item 'subst.cons'\n",
       "\\item 'scz.cons'\n",
       "\\item 'char'\n",
       "\\item 'rs'\n",
       "\\item 'ed'\n",
       "\\item 'dr'\n",
       "\\item 'suicide.s'\n",
       "\\item 'suicide.hr'\n",
       "\\item 'suicide.past'\n",
       "\\item 'dur.interv'\n",
       "\\end{enumerate*}\n"
      ],
      "text/markdown": [
       "1. 'age'\n",
       "2. 'prof'\n",
       "3. 'duree'\n",
       "4. 'discip'\n",
       "5. 'n.enfant'\n",
       "6. 'n.fratrie'\n",
       "7. 'ecole'\n",
       "8. 'separation'\n",
       "9. 'juge.enfant'\n",
       "10. 'place'\n",
       "11. 'abus'\n",
       "12. 'grav.cons'\n",
       "13. 'dep.cons'\n",
       "14. 'ago.cons'\n",
       "15. 'ptsd.cons'\n",
       "16. 'alc.cons'\n",
       "17. 'subst.cons'\n",
       "18. 'scz.cons'\n",
       "19. 'char'\n",
       "20. 'rs'\n",
       "21. 'ed'\n",
       "22. 'dr'\n",
       "23. 'suicide.s'\n",
       "24. 'suicide.hr'\n",
       "25. 'suicide.past'\n",
       "26. 'dur.interv'\n",
       "\n",
       "\n"
      ],
      "text/plain": [
       " [1] \"age\"          \"prof\"         \"duree\"        \"discip\"       \"n.enfant\"    \n",
       " [6] \"n.fratrie\"    \"ecole\"        \"separation\"   \"juge.enfant\"  \"place\"       \n",
       "[11] \"abus\"         \"grav.cons\"    \"dep.cons\"     \"ago.cons\"     \"ptsd.cons\"   \n",
       "[16] \"alc.cons\"     \"subst.cons\"   \"scz.cons\"     \"char\"         \"rs\"          \n",
       "[21] \"ed\"           \"dr\"           \"suicide.s\"    \"suicide.hr\"   \"suicide.past\"\n",
       "[26] \"dur.interv\"  "
      ]
     },
     "metadata": {},
     "output_type": "display_data"
    }
   ],
   "source": [
    "names(smp)"
   ]
  },
  {
   "cell_type": "code",
   "execution_count": 41,
   "metadata": {
    "scrolled": true
   },
   "outputs": [
    {
     "data": {
      "text/plain": [
       "   Min. 1st Qu.  Median    Mean 3rd Qu.    Max.    NA's \n",
       "   0.00   48.00   60.00   61.89   75.00  120.00      50 "
      ]
     },
     "metadata": {},
     "output_type": "display_data"
    }
   ],
   "source": [
    "summary(smp$dur.interv)"
   ]
  },
  {
   "cell_type": "markdown",
   "metadata": {},
   "source": [
    "#### 6. Nous souhaitons recoder la taille de la fratrie (n.fratrie) en variable binaire : « moins de 5 enfants » ('<5') et « 5 enfants ou plus » ('5+'). Quelle commande peut-on utiliser ? (Dans les expressions suivantes, le point-virgule sert à délimiter deux instructions)."
   ]
  },
  {
   "cell_type": "code",
   "execution_count": 44,
   "metadata": {},
   "outputs": [
    {
     "data": {
      "text/plain": [
       "\n",
       "   0    1    2    3    4    5    6    7    8    9   10   11   12   13   14   16 \n",
       "  76   86  111  129   90   75   63   41   33   31   22   14   10    4    3    3 \n",
       "  17   18   19   20   21 <NA> \n",
       "   1    2    3    1    1    0 "
      ]
     },
     "metadata": {},
     "output_type": "display_data"
    }
   ],
   "source": [
    "table(smp$n.fratrie, useNA = 'always')"
   ]
  },
  {
   "cell_type": "code",
   "execution_count": 54,
   "metadata": {},
   "outputs": [
    {
     "data": {
      "text/html": [
       "<ol class=list-inline>\n",
       "\t<li>'0'</li>\n",
       "\t<li>'1'</li>\n",
       "\t<li>'2'</li>\n",
       "\t<li>'3'</li>\n",
       "\t<li>'4'</li>\n",
       "\t<li>'5'</li>\n",
       "\t<li>'6'</li>\n",
       "\t<li>'7'</li>\n",
       "\t<li>'8'</li>\n",
       "\t<li>'9'</li>\n",
       "\t<li>'10'</li>\n",
       "\t<li>'11'</li>\n",
       "\t<li>'12'</li>\n",
       "\t<li>'13'</li>\n",
       "\t<li>'14'</li>\n",
       "\t<li>'16'</li>\n",
       "\t<li>'17'</li>\n",
       "\t<li>'18'</li>\n",
       "\t<li>'19'</li>\n",
       "\t<li>'20'</li>\n",
       "\t<li>'21'</li>\n",
       "</ol>\n"
      ],
      "text/latex": [
       "\\begin{enumerate*}\n",
       "\\item '0'\n",
       "\\item '1'\n",
       "\\item '2'\n",
       "\\item '3'\n",
       "\\item '4'\n",
       "\\item '5'\n",
       "\\item '6'\n",
       "\\item '7'\n",
       "\\item '8'\n",
       "\\item '9'\n",
       "\\item '10'\n",
       "\\item '11'\n",
       "\\item '12'\n",
       "\\item '13'\n",
       "\\item '14'\n",
       "\\item '16'\n",
       "\\item '17'\n",
       "\\item '18'\n",
       "\\item '19'\n",
       "\\item '20'\n",
       "\\item '21'\n",
       "\\end{enumerate*}\n"
      ],
      "text/markdown": [
       "1. '0'\n",
       "2. '1'\n",
       "3. '2'\n",
       "4. '3'\n",
       "5. '4'\n",
       "6. '5'\n",
       "7. '6'\n",
       "8. '7'\n",
       "9. '8'\n",
       "10. '9'\n",
       "11. '10'\n",
       "12. '11'\n",
       "13. '12'\n",
       "14. '13'\n",
       "15. '14'\n",
       "16. '16'\n",
       "17. '17'\n",
       "18. '18'\n",
       "19. '19'\n",
       "20. '20'\n",
       "21. '21'\n",
       "\n",
       "\n"
      ],
      "text/plain": [
       " [1] \"0\"  \"1\"  \"2\"  \"3\"  \"4\"  \"5\"  \"6\"  \"7\"  \"8\"  \"9\"  \"10\" \"11\" \"12\" \"13\" \"14\"\n",
       "[16] \"16\" \"17\" \"18\" \"19\" \"20\" \"21\""
      ]
     },
     "metadata": {},
     "output_type": "display_data"
    }
   ],
   "source": [
    "levels(factor(smp$n.fratrie))"
   ]
  },
  {
   "cell_type": "code",
   "execution_count": 48,
   "metadata": {},
   "outputs": [
    {
     "ename": "ERROR",
     "evalue": "Error in levels(factor(smp$n.fratrie))[1:5] <- \"<5\": impossible de trouver la fonction \"factor<-\"\n",
     "output_type": "error",
     "traceback": [
      "Error in levels(factor(smp$n.fratrie))[1:5] <- \"<5\": impossible de trouver la fonction \"factor<-\"\nTraceback:\n"
     ]
    }
   ],
   "source": [
    "levels(factor(smp$n.fratrie))[1:5] <- '<5'\n",
    "levels(factor(smp$n.fratrie))[6:21]  <- '5+'"
   ]
  },
  {
   "cell_type": "code",
   "execution_count": 84,
   "metadata": {},
   "outputs": [
    {
     "data": {
      "text/html": [
       "<dl class=dl-horizontal>\n",
       "\t<dt>FALSE</dt>\n",
       "\t\t<dd>&lt;5</dd>\n",
       "\t<dt>TRUE</dt>\n",
       "\t\t<dd>5+</dd>\n",
       "</dl>\n",
       "\n",
       "<details>\n",
       "\t<summary style=display:list-item;cursor:pointer>\n",
       "\t\t<strong>Levels</strong>:\n",
       "\t</summary>\n",
       "\t<ol class=list-inline>\n",
       "\t\t<li>'&lt;5'</li>\n",
       "\t\t<li>'5+'</li>\n",
       "\t</ol>\n",
       "</details>"
      ],
      "text/latex": [
       "\\begin{description*}\n",
       "\\item[FALSE] <5\n",
       "\\item[TRUE] 5+\n",
       "\\end{description*}\n",
       "\n",
       "\\emph{Levels}: \\begin{enumerate*}\n",
       "\\item '<5'\n",
       "\\item '5+'\n",
       "\\end{enumerate*}\n"
      ],
      "text/markdown": [
       "FALSE\n",
       ":   &lt;5TRUE\n",
       ":   5+\n",
       "\n",
       "\n",
       "**Levels**: 1. '&lt;5'\n",
       "2. '5+'\n",
       "\n",
       "\n"
      ],
      "text/plain": [
       "FALSE  TRUE \n",
       "   <5    5+ \n",
       "Levels: <5 5+"
      ]
     },
     "metadata": {},
     "output_type": "display_data"
    }
   ],
   "source": [
    "factor(table(smp$n.fratrie <= 5),labels=c('<5', '5+'))"
   ]
  },
  {
   "cell_type": "markdown",
   "metadata": {},
   "source": [
    "#### 7. Donnez le nombre de lignes du tableau de données pour lesquelles la variable ecole vaut 1, 2 ou 3:"
   ]
  },
  {
   "cell_type": "code",
   "execution_count": 65,
   "metadata": {},
   "outputs": [
    {
     "data": {
      "text/plain": [
       "\n",
       "   1    2    3    4    5 <NA> \n",
       " 340  301   90   45   18    5 "
      ]
     },
     "metadata": {},
     "output_type": "display_data"
    }
   ],
   "source": [
    "table(smp$ecole, useNA = 'always')"
   ]
  },
  {
   "cell_type": "code",
   "execution_count": 70,
   "metadata": {},
   "outputs": [
    {
     "data": {
      "text/html": [
       "799"
      ],
      "text/latex": [
       "799"
      ],
      "text/markdown": [
       "799"
      ],
      "text/plain": [
       "[1] 799"
      ]
     },
     "metadata": {},
     "output_type": "display_data"
    }
   ],
   "source": [
    "sum(table(smp$ecole <= 3, useNA='always')) #doesn't work?!"
   ]
  },
  {
   "cell_type": "code",
   "execution_count": 63,
   "metadata": {},
   "outputs": [
    {
     "data": {
      "text/html": [
       "731"
      ],
      "text/latex": [
       "731"
      ],
      "text/markdown": [
       "731"
      ],
      "text/plain": [
       "[1] 731"
      ]
     },
     "metadata": {},
     "output_type": "display_data"
    }
   ],
   "source": [
    "340+301+90"
   ]
  },
  {
   "cell_type": "code",
   "execution_count": 76,
   "metadata": {
    "scrolled": true
   },
   "outputs": [
    {
     "data": {
      "text/html": [
       "731"
      ],
      "text/latex": [
       "731"
      ],
      "text/markdown": [
       "731"
      ],
      "text/plain": [
       "[1] 731"
      ]
     },
     "metadata": {},
     "output_type": "display_data"
    }
   ],
   "source": [
    "sum(smp$ecole <= 3, na.rm=TRUE) # count TRUE excluding NA"
   ]
  },
  {
   "cell_type": "code",
   "execution_count": 83,
   "metadata": {},
   "outputs": [
    {
     "data": {
      "text/plain": [
       "\n",
       "FALSE  TRUE \n",
       "   63   731 "
      ]
     },
     "metadata": {},
     "output_type": "display_data"
    }
   ],
   "source": [
    "table(smp$ecole < 4)"
   ]
  },
  {
   "cell_type": "markdown",
   "metadata": {},
   "source": [
    "#### 8. Donnez le nombre d'individus sans emploi:"
   ]
  },
  {
   "cell_type": "code",
   "execution_count": 77,
   "metadata": {},
   "outputs": [
    {
     "data": {
      "text/html": [
       "<ol class=list-inline>\n",
       "\t<li>'age'</li>\n",
       "\t<li>'prof'</li>\n",
       "\t<li>'duree'</li>\n",
       "\t<li>'discip'</li>\n",
       "\t<li>'n.enfant'</li>\n",
       "\t<li>'n.fratrie'</li>\n",
       "\t<li>'ecole'</li>\n",
       "\t<li>'separation'</li>\n",
       "\t<li>'juge.enfant'</li>\n",
       "\t<li>'place'</li>\n",
       "\t<li>'abus'</li>\n",
       "\t<li>'grav.cons'</li>\n",
       "\t<li>'dep.cons'</li>\n",
       "\t<li>'ago.cons'</li>\n",
       "\t<li>'ptsd.cons'</li>\n",
       "\t<li>'alc.cons'</li>\n",
       "\t<li>'subst.cons'</li>\n",
       "\t<li>'scz.cons'</li>\n",
       "\t<li>'char'</li>\n",
       "\t<li>'rs'</li>\n",
       "\t<li>'ed'</li>\n",
       "\t<li>'dr'</li>\n",
       "\t<li>'suicide.s'</li>\n",
       "\t<li>'suicide.hr'</li>\n",
       "\t<li>'suicide.past'</li>\n",
       "\t<li>'dur.interv'</li>\n",
       "</ol>\n"
      ],
      "text/latex": [
       "\\begin{enumerate*}\n",
       "\\item 'age'\n",
       "\\item 'prof'\n",
       "\\item 'duree'\n",
       "\\item 'discip'\n",
       "\\item 'n.enfant'\n",
       "\\item 'n.fratrie'\n",
       "\\item 'ecole'\n",
       "\\item 'separation'\n",
       "\\item 'juge.enfant'\n",
       "\\item 'place'\n",
       "\\item 'abus'\n",
       "\\item 'grav.cons'\n",
       "\\item 'dep.cons'\n",
       "\\item 'ago.cons'\n",
       "\\item 'ptsd.cons'\n",
       "\\item 'alc.cons'\n",
       "\\item 'subst.cons'\n",
       "\\item 'scz.cons'\n",
       "\\item 'char'\n",
       "\\item 'rs'\n",
       "\\item 'ed'\n",
       "\\item 'dr'\n",
       "\\item 'suicide.s'\n",
       "\\item 'suicide.hr'\n",
       "\\item 'suicide.past'\n",
       "\\item 'dur.interv'\n",
       "\\end{enumerate*}\n"
      ],
      "text/markdown": [
       "1. 'age'\n",
       "2. 'prof'\n",
       "3. 'duree'\n",
       "4. 'discip'\n",
       "5. 'n.enfant'\n",
       "6. 'n.fratrie'\n",
       "7. 'ecole'\n",
       "8. 'separation'\n",
       "9. 'juge.enfant'\n",
       "10. 'place'\n",
       "11. 'abus'\n",
       "12. 'grav.cons'\n",
       "13. 'dep.cons'\n",
       "14. 'ago.cons'\n",
       "15. 'ptsd.cons'\n",
       "16. 'alc.cons'\n",
       "17. 'subst.cons'\n",
       "18. 'scz.cons'\n",
       "19. 'char'\n",
       "20. 'rs'\n",
       "21. 'ed'\n",
       "22. 'dr'\n",
       "23. 'suicide.s'\n",
       "24. 'suicide.hr'\n",
       "25. 'suicide.past'\n",
       "26. 'dur.interv'\n",
       "\n",
       "\n"
      ],
      "text/plain": [
       " [1] \"age\"          \"prof\"         \"duree\"        \"discip\"       \"n.enfant\"    \n",
       " [6] \"n.fratrie\"    \"ecole\"        \"separation\"   \"juge.enfant\"  \"place\"       \n",
       "[11] \"abus\"         \"grav.cons\"    \"dep.cons\"     \"ago.cons\"     \"ptsd.cons\"   \n",
       "[16] \"alc.cons\"     \"subst.cons\"   \"scz.cons\"     \"char\"         \"rs\"          \n",
       "[21] \"ed\"           \"dr\"           \"suicide.s\"    \"suicide.hr\"   \"suicide.past\"\n",
       "[26] \"dur.interv\"  "
      ]
     },
     "metadata": {},
     "output_type": "display_data"
    }
   ],
   "source": [
    "names(smp)"
   ]
  },
  {
   "cell_type": "code",
   "execution_count": 78,
   "metadata": {},
   "outputs": [
    {
     "data": {
      "text/plain": [
       "\n",
       "       agriculteur            artisan              autre              cadre \n",
       "                 6                 90                 31                 24 \n",
       "           employe            ouvrier prof.intermediaire        sans emploi \n",
       "               135                227                 58                222 "
      ]
     },
     "metadata": {},
     "output_type": "display_data"
    }
   ],
   "source": [
    "table(smp$prof)"
   ]
  },
  {
   "cell_type": "code",
   "execution_count": 82,
   "metadata": {},
   "outputs": [
    {
     "data": {
      "text/plain": [
       "\n",
       "FALSE  TRUE \n",
       "  571   222 "
      ]
     },
     "metadata": {},
     "output_type": "display_data"
    }
   ],
   "source": [
    "table(smp$prof == 'sans emploi')"
   ]
  },
  {
   "cell_type": "markdown",
   "metadata": {},
   "source": [
    "#### 2. Quelle commande permet d'obtenir le nombre total d'individus sans données manquantes ?"
   ]
  },
  {
   "cell_type": "code",
   "execution_count": 85,
   "metadata": {},
   "outputs": [
    {
     "data": {
      "text/html": [
       "403"
      ],
      "text/latex": [
       "403"
      ],
      "text/markdown": [
       "403"
      ],
      "text/plain": [
       "[1] 403"
      ]
     },
     "metadata": {},
     "output_type": "display_data"
    }
   ],
   "source": [
    "sum(complete.cases(smp))"
   ]
  },
  {
   "cell_type": "markdown",
   "metadata": {},
   "source": [
    "#### 3. Quel est l'âge moyen des dix premiers individus du tableau de données?"
   ]
  },
  {
   "cell_type": "code",
   "execution_count": 89,
   "metadata": {},
   "outputs": [
    {
     "data": {
      "text/html": [
       "39.7"
      ],
      "text/latex": [
       "39.7"
      ],
      "text/markdown": [
       "39.7"
      ],
      "text/plain": [
       "[1] 39.7"
      ]
     },
     "metadata": {},
     "output_type": "display_data"
    }
   ],
   "source": [
    "mean(smp$age[1:10], na.rm = TRUE)"
   ]
  },
  {
   "cell_type": "code",
   "execution_count": 88,
   "metadata": {},
   "outputs": [
    {
     "data": {
      "text/html": [
       "<ol class=list-inline>\n",
       "\t<li>31</li>\n",
       "\t<li>49</li>\n",
       "\t<li>50</li>\n",
       "\t<li>47</li>\n",
       "\t<li>23</li>\n",
       "\t<li>34</li>\n",
       "\t<li>24</li>\n",
       "\t<li>52</li>\n",
       "\t<li>42</li>\n",
       "\t<li>45</li>\n",
       "</ol>\n"
      ],
      "text/latex": [
       "\\begin{enumerate*}\n",
       "\\item 31\n",
       "\\item 49\n",
       "\\item 50\n",
       "\\item 47\n",
       "\\item 23\n",
       "\\item 34\n",
       "\\item 24\n",
       "\\item 52\n",
       "\\item 42\n",
       "\\item 45\n",
       "\\end{enumerate*}\n"
      ],
      "text/markdown": [
       "1. 31\n",
       "2. 49\n",
       "3. 50\n",
       "4. 47\n",
       "5. 23\n",
       "6. 34\n",
       "7. 24\n",
       "8. 52\n",
       "9. 42\n",
       "10. 45\n",
       "\n",
       "\n"
      ],
      "text/plain": [
       " [1] 31 49 50 47 23 34 24 52 42 45"
      ]
     },
     "metadata": {},
     "output_type": "display_data"
    }
   ],
   "source": [
    "smp$age[1:10]"
   ]
  },
  {
   "cell_type": "markdown",
   "metadata": {},
   "source": [
    "#### 4. Quelle est la valeur médiane pour la durée d'intervention (dur.interv) en ne considérant que les 300 premières observations du data frame smp ?"
   ]
  },
  {
   "cell_type": "code",
   "execution_count": 90,
   "metadata": {},
   "outputs": [
    {
     "data": {
      "text/html": [
       "50"
      ],
      "text/latex": [
       "50"
      ],
      "text/markdown": [
       "50"
      ],
      "text/plain": [
       "[1] 50"
      ]
     },
     "metadata": {},
     "output_type": "display_data"
    }
   ],
   "source": [
    "median(smp$dur.interv[1:300], na.rm = TRUE)"
   ]
  },
  {
   "cell_type": "code",
   "execution_count": 91,
   "metadata": {},
   "outputs": [
    {
     "data": {
      "text/html": [
       "<ol class=list-inline>\n",
       "\t<li>&lt;NA&gt;</li>\n",
       "\t<li>70</li>\n",
       "\t<li>&lt;NA&gt;</li>\n",
       "\t<li>105</li>\n",
       "\t<li>&lt;NA&gt;</li>\n",
       "\t<li>&lt;NA&gt;</li>\n",
       "\t<li>105</li>\n",
       "\t<li>84</li>\n",
       "\t<li>78</li>\n",
       "\t<li>60</li>\n",
       "\t<li>&lt;NA&gt;</li>\n",
       "\t<li>35</li>\n",
       "\t<li>95</li>\n",
       "\t<li>90</li>\n",
       "\t<li>80</li>\n",
       "\t<li>&lt;NA&gt;</li>\n",
       "\t<li>90</li>\n",
       "\t<li>90</li>\n",
       "\t<li>25</li>\n",
       "\t<li>95</li>\n",
       "\t<li>55</li>\n",
       "\t<li>&lt;NA&gt;</li>\n",
       "\t<li>90</li>\n",
       "\t<li>105</li>\n",
       "\t<li>83</li>\n",
       "\t<li>75</li>\n",
       "\t<li>50</li>\n",
       "\t<li>&lt;NA&gt;</li>\n",
       "\t<li>100</li>\n",
       "\t<li>&lt;NA&gt;</li>\n",
       "</ol>\n"
      ],
      "text/latex": [
       "\\begin{enumerate*}\n",
       "\\item <NA>\n",
       "\\item 70\n",
       "\\item <NA>\n",
       "\\item 105\n",
       "\\item <NA>\n",
       "\\item <NA>\n",
       "\\item 105\n",
       "\\item 84\n",
       "\\item 78\n",
       "\\item 60\n",
       "\\item <NA>\n",
       "\\item 35\n",
       "\\item 95\n",
       "\\item 90\n",
       "\\item 80\n",
       "\\item <NA>\n",
       "\\item 90\n",
       "\\item 90\n",
       "\\item 25\n",
       "\\item 95\n",
       "\\item 55\n",
       "\\item <NA>\n",
       "\\item 90\n",
       "\\item 105\n",
       "\\item 83\n",
       "\\item 75\n",
       "\\item 50\n",
       "\\item <NA>\n",
       "\\item 100\n",
       "\\item <NA>\n",
       "\\end{enumerate*}\n"
      ],
      "text/markdown": [
       "1. &lt;NA&gt;\n",
       "2. 70\n",
       "3. &lt;NA&gt;\n",
       "4. 105\n",
       "5. &lt;NA&gt;\n",
       "6. &lt;NA&gt;\n",
       "7. 105\n",
       "8. 84\n",
       "9. 78\n",
       "10. 60\n",
       "11. &lt;NA&gt;\n",
       "12. 35\n",
       "13. 95\n",
       "14. 90\n",
       "15. 80\n",
       "16. &lt;NA&gt;\n",
       "17. 90\n",
       "18. 90\n",
       "19. 25\n",
       "20. 95\n",
       "21. 55\n",
       "22. &lt;NA&gt;\n",
       "23. 90\n",
       "24. 105\n",
       "25. 83\n",
       "26. 75\n",
       "27. 50\n",
       "28. &lt;NA&gt;\n",
       "29. 100\n",
       "30. &lt;NA&gt;\n",
       "\n",
       "\n"
      ],
      "text/plain": [
       " [1]  NA  70  NA 105  NA  NA 105  84  78  60  NA  35  95  90  80  NA  90  90  25\n",
       "[20]  95  55  NA  90 105  83  75  50  NA 100  NA"
      ]
     },
     "metadata": {},
     "output_type": "display_data"
    }
   ],
   "source": [
    "smp$dur.interv[1:30]"
   ]
  },
  {
   "cell_type": "code",
   "execution_count": 92,
   "metadata": {},
   "outputs": [
    {
     "data": {
      "text/html": [
       "&lt;NA&gt;"
      ],
      "text/latex": [
       "<NA>"
      ],
      "text/markdown": [
       "&lt;NA&gt;"
      ],
      "text/plain": [
       "[1] NA"
      ]
     },
     "metadata": {},
     "output_type": "display_data"
    }
   ],
   "source": [
    "median(smp$dur.interv[1:300])"
   ]
  },
  {
   "cell_type": "code",
   "execution_count": null,
   "metadata": {},
   "outputs": [],
   "source": []
  }
 ],
 "metadata": {
  "kernelspec": {
   "display_name": "R",
   "language": "R",
   "name": "ir"
  },
  "language_info": {
   "codemirror_mode": "r",
   "file_extension": ".r",
   "mimetype": "text/x-r-source",
   "name": "R",
   "pygments_lexer": "r",
   "version": "3.5.1"
  }
 },
 "nbformat": 4,
 "nbformat_minor": 2
}
