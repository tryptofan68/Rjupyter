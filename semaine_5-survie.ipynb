{
 "cells": [
  {
   "cell_type": "markdown",
   "metadata": {},
   "source": [
    "# Représentation des courbes de survie"
   ]
  },
  {
   "cell_type": "code",
   "execution_count": 1,
   "metadata": {},
   "outputs": [
    {
     "name": "stdout",
     "output_type": "stream",
     "text": [
      "'data.frame':\t125 obs. of  5 variables:\n",
      " $ t     : int  121 121 40 39 66 64 5 30 34 5 ...\n",
      " $ SEVRE : int  0 0 0 0 0 0 1 0 0 0 ...\n",
      " $ AGE   : int  53 52 45 48 45 42 35 35 41 37 ...\n",
      " $ SEXE  : int  1 2 2 1 1 1 1 1 1 1 ...\n",
      " $ EDVNEG: int  0 0 0 1 0 0 0 0 0 0 ...\n"
     ]
    }
   ],
   "source": [
    "# importation d'un nouveau jeu de données pour cette semaine\n",
    "data = read.csv2(\"alcool.csv\")\n",
    "str(data)"
   ]
  },
  {
   "cell_type": "code",
   "execution_count": 2,
   "metadata": {},
   "outputs": [],
   "source": [
    "library(survival)"
   ]
  },
  {
   "cell_type": "code",
   "execution_count": 31,
   "metadata": {},
   "outputs": [
    {
     "name": "stdout",
     "output_type": "stream",
     "text": [
      "Call: survfit(formula = Surv(data$t, data$SEVRE) ~ 1)\n",
      "\n",
      "      n  events  median 0.95LCL 0.95UCL \n",
      "    125      27      NA     160      NA \n"
     ]
    }
   ],
   "source": [
    "surv = survfit(Surv(data$t, data$SEVRE) ~1)\n",
    "print(model1)"
   ]
  },
  {
   "cell_type": "code",
   "execution_count": 30,
   "metadata": {},
   "outputs": [
    {
     "data": {
      "text/plain": [
       "Call: survfit(formula = Surv(t, SEVRE) ~ SEXE, data = data)\n",
       "\n",
       "         n events median 0.95LCL 0.95UCL\n",
       "SEXE=1 107     24     NA     160      NA\n",
       "SEXE=2  18      3     NA      84      NA"
      ]
     },
     "metadata": {},
     "output_type": "display_data"
    }
   ],
   "source": [
    "survfit(Surv(t, SEVRE) ~SEXE, data=data)"
   ]
  },
  {
   "cell_type": "code",
   "execution_count": 20,
   "metadata": {},
   "outputs": [],
   "source": [
    "options(repr.plot.width=4, repr.plot.height=4)"
   ]
  },
  {
   "cell_type": "code",
   "execution_count": 32,
   "metadata": {},
   "outputs": [
    {
     "data": {
      "image/png": "[encoded data removed]",
      "text/plain": [
       "plot without title"
      ]
     },
     "metadata": {},
     "output_type": "display_data"
    }
   ],
   "source": [
    "plot(surv)"
   ]
  },
  {
   "cell_type": "code",
   "execution_count": 13,
   "metadata": {},
   "outputs": [],
   "source": [
    "help(survfit)"
   ]
  },
  {
   "cell_type": "code",
   "execution_count": 22,
   "metadata": {},
   "outputs": [
    {
     "data": {
      "image/png": "[encoded data removed]",
      "text/plain": [
       "Plot with title \"Courbe de maitien dans l'abstinence\""
      ]
     },
     "metadata": {},
     "output_type": "display_data"
    }
   ],
   "source": [
    "plot(survfit(Surv(t, SEVRE) ~SEXE, data=data),\n",
    "     col=c('blue', 'red'),\n",
    "     main=\"Courbe de maitien dans l'abstinence\")"
   ]
  },
  {
   "cell_type": "markdown",
   "metadata": {},
   "source": [
    "# Tests statistiques"
   ]
  },
  {
   "cell_type": "markdown",
   "metadata": {},
   "source": [
    "Le test du log-rank, assimilé à un test de rang, possède les conditions de validité :\n",
    "–Nombreux temps de décès\n",
    "–Ou de nombreux morts à chaque temps de décès"
   ]
  },
  {
   "cell_type": "code",
   "execution_count": 33,
   "metadata": {},
   "outputs": [
    {
     "data": {
      "text/plain": [
       "Call:\n",
       "survdiff(formula = Surv(t, SEVRE) ~ SEXE, data = data)\n",
       "\n",
       "         N Observed Expected (O-E)^2/E (O-E)^2/V\n",
       "SEXE=1 107       24    23.74   0.00281    0.0235\n",
       "SEXE=2  18        3     3.26   0.02046    0.0235\n",
       "\n",
       " Chisq= 0  on 1 degrees of freedom, p= 0.9 "
      ]
     },
     "metadata": {},
     "output_type": "display_data"
    }
   ],
   "source": [
    "survdiff(Surv(t, SEVRE) ~SEXE, data=data)"
   ]
  },
  {
   "cell_type": "code",
   "execution_count": 34,
   "metadata": {},
   "outputs": [
    {
     "data": {
      "text/html": [
       "'0.878'"
      ],
      "text/latex": [
       "'0.878'"
      ],
      "text/markdown": [
       "'0.878'"
      ],
      "text/plain": [
       "[1] \"0.878\""
      ]
     },
     "metadata": {},
     "output_type": "display_data"
    }
   ],
   "source": [
    "diff <- survdiff(Surv(t,SEVRE)~SEXE,data=data)\n",
    "p <- pchisq(diff$chisq, length(diff$n)-1, lower.tail = FALSE)\n",
    "sprintf(\"%.3f\",p) # choix du nombre de décimales"
   ]
  },
  {
   "cell_type": "markdown",
   "metadata": {},
   "source": [
    "Test de l'association de la survie à une variable quantitative --> modèle de Cox"
   ]
  },
  {
   "cell_type": "code",
   "execution_count": 35,
   "metadata": {},
   "outputs": [
    {
     "data": {
      "text/plain": [
       "Call:\n",
       "coxph(formula = Surv(t, SEVRE) ~ AGE, data = data)\n",
       "\n",
       "       coef exp(coef) se(coef)     z     p\n",
       "AGE -0.0467    0.9544   0.0235 -1.99 0.047\n",
       "\n",
       "Likelihood ratio test=4.09  on 1 df, p=0.04\n",
       "n= 125, number of events= 27 "
      ]
     },
     "metadata": {},
     "output_type": "display_data"
    }
   ],
   "source": [
    "coxph(Surv(t, SEVRE)~AGE, data=data)"
   ]
  },
  {
   "cell_type": "code",
   "execution_count": 36,
   "metadata": {},
   "outputs": [
    {
     "data": {
      "text/html": [
       "0.954373666747875"
      ],
      "text/latex": [
       "0.954373666747875"
      ],
      "text/markdown": [
       "0.954373666747875"
      ],
      "text/plain": [
       "[1] 0.9543737"
      ]
     },
     "metadata": {},
     "output_type": "display_data"
    }
   ],
   "source": [
    "exp(-0.0467)"
   ]
  },
  {
   "cell_type": "markdown",
   "metadata": {},
   "source": [
    "Test de l'association de la survie à une liste de variables explicatives --> modèle de Cox"
   ]
  },
  {
   "cell_type": "code",
   "execution_count": 37,
   "metadata": {},
   "outputs": [],
   "source": [
    "mod = coxph(Surv(t, SEVRE)~AGE+SEXE+EDVNEG, data=data)"
   ]
  },
  {
   "cell_type": "code",
   "execution_count": 38,
   "metadata": {},
   "outputs": [
    {
     "name": "stdout",
     "output_type": "stream",
     "text": [
      "Call:\n",
      "coxph(formula = Surv(t, SEVRE) ~ AGE + SEXE + EDVNEG, data = data)\n",
      "\n",
      "          coef exp(coef) se(coef)     z     p\n",
      "AGE    -0.0473    0.9538   0.0237 -2.00 0.046\n",
      "SEXE   -0.0151    0.9850   0.6206 -0.02 0.981\n",
      "EDVNEG -0.4428    0.6422   1.0240 -0.43 0.665\n",
      "\n",
      "Likelihood ratio test=4.31  on 3 df, p=0.2\n",
      "n= 125, number of events= 27 \n"
     ]
    }
   ],
   "source": [
    "print(mod)"
   ]
  },
  {
   "cell_type": "code",
   "execution_count": 39,
   "metadata": {},
   "outputs": [],
   "source": [
    "# exp(coef) = hazard ratio, ou rapport des risques instantanés de décès"
   ]
  },
  {
   "cell_type": "markdown",
   "metadata": {},
   "source": [
    "Vérification des conditions de validité du modèle de Cox:\n",
    "1. nombre suffisant d'évènements\n",
    "2. hypothèse des risques instantanés proportionnels"
   ]
  },
  {
   "cell_type": "code",
   "execution_count": 41,
   "metadata": {},
   "outputs": [
    {
     "data": {
      "image/png": "[encoded data removed]",
      "text/plain": [
       "plot without title"
      ]
     },
     "metadata": {},
     "output_type": "display_data"
    }
   ],
   "source": [
    "par(mfrow = c(2,2)) # plot a 2x2 grid\n",
    "plot(cox.zph(mod)) # plots should be almost horizontal"
   ]
  },
  {
   "cell_type": "markdown",
   "metadata": {},
   "source": [
    "Test incidence de variables catégorielles à plus de 2 classes, et interaction (AGA*SEXE) possibles."
   ]
  },
  {
   "cell_type": "code",
   "execution_count": null,
   "metadata": {},
   "outputs": [],
   "source": []
  }
 ],
 "metadata": {
  "kernelspec": {
   "display_name": "R",
   "language": "R",
   "name": "ir"
  },
  "language_info": {
   "codemirror_mode": "r",
   "file_extension": ".r",
   "mimetype": "text/x-r-source",
   "name": "R",
   "pygments_lexer": "r",
   "version": "3.5.1"
  }
 },
 "nbformat": 4,
 "nbformat_minor": 2
}
