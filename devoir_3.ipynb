{
 "cells": [
  {
   "cell_type": "code",
   "execution_count": 3,
   "metadata": {},
   "outputs": [],
   "source": [
    "data <- read.csv2('../data//satisfaction_hopital.csv')"
   ]
  },
  {
   "cell_type": "markdown",
   "metadata": {},
   "source": [
    "##### 1.Transformez la variable « recommander » en une variable binaire « recommander.b » : \n",
    "« recommander.b » vaut 0 si « recommander » vaut 0 ou 1 ;\n",
    "« recommander.b » vaut 1 si « recommander » vaut 2."
   ]
  },
  {
   "cell_type": "code",
   "execution_count": 4,
   "metadata": {},
   "outputs": [
    {
     "name": "stdout",
     "output_type": "stream",
     "text": [
      "'data.frame':\t534 obs. of  9 variables:\n",
      " $ service           : int  3 3 3 3 3 3 3 3 3 3 ...\n",
      " $ sexe              : int  0 1 1 0 1 0 0 0 0 1 ...\n",
      " $ age               : int  41 29 83 66 84 84 60 85 28 35 ...\n",
      " $ profession        : int  4 8 2 3 NA 6 3 3 3 3 ...\n",
      " $ amelioration.sante: int  1 2 2 2 NA 3 2 3 3 3 ...\n",
      " $ amelioration.moral: int  0 3 1 0 NA 3 1 1 1 2 ...\n",
      " $ recommander       : int  1 2 2 2 NA 2 1 2 1 NA ...\n",
      " $ score.relation    : int  36 33 40 32 NA 39 31 NA 36 NA ...\n",
      " $ score.information : int  22 36 37 35 NA 28 30 NA 29 NA ...\n"
     ]
    }
   ],
   "source": [
    "str(data)"
   ]
  },
  {
   "cell_type": "markdown",
   "metadata": {},
   "source": [
    "##### 2.A l’aide d’un odds-ratio, estimez la force de l’association entre « recommander.b » et « sexe ». Estimez un intervalle de confiance de cet odds-ratio."
   ]
  },
  {
   "cell_type": "code",
   "execution_count": 17,
   "metadata": {},
   "outputs": [],
   "source": [
    "data$sexe <- factor(data$sexe, levels=c(0,1), labels=c('M', 'F')) # coding acc. data description"
   ]
  },
  {
   "cell_type": "code",
   "execution_count": 18,
   "metadata": {},
   "outputs": [],
   "source": [
    "data$recommander.b <- ifelse(data$recommander==2, 1, 0) # si la variable recommander vaut 2,\n",
    "                                    # le variable binaire recommander.b vaudra 1, sinon 0"
   ]
  },
  {
   "cell_type": "code",
   "execution_count": 76,
   "metadata": {},
   "outputs": [],
   "source": [
    "data$recommander.b_b = ifelse(data$recommander==2, 1, 0)"
   ]
  },
  {
   "cell_type": "code",
   "execution_count": 20,
   "metadata": {},
   "outputs": [
    {
     "data": {
      "text/plain": [
       "                  data$sexe\n",
       "data$recommander.b   M   F <NA>\n",
       "              0     73  63    0\n",
       "              1    139 130    0\n",
       "              <NA>  56  73    0"
      ]
     },
     "metadata": {},
     "output_type": "display_data"
    }
   ],
   "source": [
    "table(data$recommander.b, data$sexe, deparse.level = 2, useNA = 'always') # juste pour vérifier\n",
    "                    # visuellement à quoi on doit s'attendre en terme d'association des variables\n",
    "                    # et en nombre d'observations. La tendance est la même dans les 2 cat sexe"
   ]
  },
  {
   "cell_type": "code",
   "execution_count": 39,
   "metadata": {},
   "outputs": [
    {
     "data": {
      "text/plain": [
       "                  data$sexe\n",
       "data$recommander.b         M         F <NA>\n",
       "              0    0.2723881 0.2368421     \n",
       "              1    0.5186567 0.4887218     \n",
       "              <NA> 0.2089552 0.2744361     "
      ]
     },
     "metadata": {},
     "output_type": "display_data"
    }
   ],
   "source": [
    "prop.table(table(data$recommander.b, data$sexe, deparse.level = 2, useNA = 'always'), \n",
    "          margin=2) # tendance se confirmant avec un tableau des fréquences"
   ]
  },
  {
   "cell_type": "code",
   "execution_count": 35,
   "metadata": {},
   "outputs": [],
   "source": [
    "results_fisher <- fisher.test(data$recommander.b, data$sexe)"
   ]
  },
  {
   "cell_type": "code",
   "execution_count": 36,
   "metadata": {},
   "outputs": [
    {
     "data": {
      "text/html": [
       "<strong>odds ratio:</strong> 1.08348738599159"
      ],
      "text/latex": [
       "\\textbf{odds ratio:} 1.08348738599159"
      ],
      "text/markdown": [
       "**odds ratio:** 1.08348738599159"
      ],
      "text/plain": [
       "odds ratio \n",
       "  1.083487 "
      ]
     },
     "metadata": {},
     "output_type": "display_data"
    }
   ],
   "source": [
    "results_fisher$estimate # l'odds ratio est très proche de 1, on a donc la même réparition \n",
    "        # de la variable recommander.b dans les 2 gorupes de sexe"
   ]
  },
  {
   "cell_type": "code",
   "execution_count": 37,
   "metadata": {},
   "outputs": [
    {
     "data": {
      "text/html": [
       "<ol class=list-inline>\n",
       "\t<li>0.702099607622195</li>\n",
       "\t<li>1.67453878965139</li>\n",
       "</ol>\n"
      ],
      "text/latex": [
       "\\begin{enumerate*}\n",
       "\\item 0.702099607622195\n",
       "\\item 1.67453878965139\n",
       "\\end{enumerate*}\n"
      ],
      "text/markdown": [
       "1. 0.702099607622195\n",
       "2. 1.67453878965139\n",
       "\n",
       "\n"
      ],
      "text/plain": [
       "[1] 0.7020996 1.6745388\n",
       "attr(,\"conf.level\")\n",
       "[1] 0.95"
      ]
     },
     "metadata": {},
     "output_type": "display_data"
    }
   ],
   "source": [
    "results_fisher$conf.int # et son IC contient bien 1.00, \n",
    "                    # ainsi les 2 variables ne sont pas indépendantes"
   ]
  },
  {
   "cell_type": "code",
   "execution_count": 70,
   "metadata": {},
   "outputs": [],
   "source": [
    "library(Epi)"
   ]
  },
  {
   "cell_type": "code",
   "execution_count": 72,
   "metadata": {},
   "outputs": [
    {
     "name": "stdout",
     "output_type": "stream",
     "text": [
      "2 by 2 table analysis: \n",
      "------------------------------------------------------ \n",
      "Outcome   : M \n",
      "Comparing : 0 vs. 1 \n",
      "\n",
      "    M   F    P(M) 95% conf. interval\n",
      "0  73  63  0.5368    0.4527   0.6188\n",
      "1 139 130  0.5167    0.4571   0.5759\n",
      "\n",
      "                                   95% conf. interval\n",
      "             Relative Risk: 1.0388    0.8554   1.2615\n",
      "         Sample Odds Ratio: 1.0837    0.7169   1.6383\n",
      "Conditional MLE Odds Ratio: 1.0835    0.7021   1.6745\n",
      "    Probability difference: 0.0200   -0.0824   0.1211\n",
      "\n",
      "             Exact P-value: 0.7523 \n",
      "        Asymptotic P-value: 0.703 \n",
      "------------------------------------------------------\n"
     ]
    }
   ],
   "source": [
    "twoby2(data$recommander.b, data$sexe)"
   ]
  },
  {
   "cell_type": "code",
   "execution_count": 81,
   "metadata": {},
   "outputs": [
    {
     "name": "stdout",
     "output_type": "stream",
     "text": [
      "2 by 2 table analysis: \n",
      "------------------------------------------------------ \n",
      "Outcome   : M \n",
      "Comparing : 0 vs. 1 \n",
      "\n",
      "    M   F    P(M) 95% conf. interval\n",
      "0  73  63  0.5368    0.4527   0.6188\n",
      "1 139 130  0.5167    0.4571   0.5759\n",
      "\n",
      "                                   95% conf. interval\n",
      "             Relative Risk: 1.0388    0.8554   1.2615\n",
      "         Sample Odds Ratio: 1.0837    0.7169   1.6383\n",
      "Conditional MLE Odds Ratio: 1.0835    0.7021   1.6745\n",
      "    Probability difference: 0.0200   -0.0824   0.1211\n",
      "\n",
      "             Exact P-value: 0.7523 \n",
      "        Asymptotic P-value: 0.703 \n",
      "------------------------------------------------------\n"
     ]
    },
    {
     "data": {
      "text/html": [
       "'1.08 [0.72;1.64]'"
      ],
      "text/latex": [
       "'1.08 {[}0.72;1.64{]}'"
      ],
      "text/markdown": [
       "'1.08 [0.72;1.64]'"
      ],
      "text/plain": [
       "[1] \"1.08 [0.72;1.64]\""
      ]
     },
     "metadata": {},
     "output_type": "display_data"
    }
   ],
   "source": [
    "tw=Epi::twoby2(data$recommander.b, data$sexe)\n",
    "or=round(tw$measures[2,],2)\n",
    "paste0(or[1], \" [\", or[2], \";\", or[3], \"]\")"
   ]
  },
  {
   "cell_type": "markdown",
   "metadata": {},
   "source": [
    "##### 3.Calculez la corrélation (de Pearson) entre « score.relation » et « age ». Testez statistiquement cette corrélation (le script doit inclure la vérification éventuelle des conditions de validité de la méthode utilisée)."
   ]
  },
  {
   "cell_type": "code",
   "execution_count": 54,
   "metadata": {},
   "outputs": [
    {
     "data": {
      "image/png": "[encoded data removed]",
      "text/plain": [
       "plot without title"
      ]
     },
     "metadata": {},
     "output_type": "display_data"
    }
   ],
   "source": [
    "plot(jitter(data$score.relation), jitter(data$age)) # visualisation rapide pour avoir une idée\n",
    "            # à première vue il n'y pas de corrélation évidente..."
   ]
  },
  {
   "cell_type": "code",
   "execution_count": 85,
   "metadata": {},
   "outputs": [
    {
     "data": {},
     "metadata": {},
     "output_type": "display_data"
    },
    {
     "data": {},
     "metadata": {},
     "output_type": "display_data"
    },
    {
     "data": {
      "image/png": "[encoded data removed]",
      "text/plain": [
       "plot without title"
      ]
     },
     "metadata": {},
     "output_type": "display_data"
    },
    {
     "data": {
      "image/png": "[encoded data removed]",
      "text/plain": [
       "plot without title"
      ]
     },
     "metadata": {},
     "output_type": "display_data"
    }
   ],
   "source": [
    "lattice::densityplot(data$score.relation)\n",
    "lattice::densityplot(data$age)"
   ]
  },
  {
   "cell_type": "code",
   "execution_count": 90,
   "metadata": {},
   "outputs": [
    {
     "data": {
      "text/plain": [
       "\n",
       "\tShapiro-Wilk normality test\n",
       "\n",
       "data:  data$age\n",
       "W = 0.9834, p-value = 1.006e-05\n"
      ]
     },
     "metadata": {},
     "output_type": "display_data"
    }
   ],
   "source": [
    "shapiro.test(data$age) # we must reject H0 of normality"
   ]
  },
  {
   "cell_type": "code",
   "execution_count": 61,
   "metadata": {},
   "outputs": [
    {
     "data": {
      "image/png": "[encoded data removed]",
      "text/plain": [
       "Plot with title \"Histogram of data$age\""
      ]
     },
     "metadata": {},
     "output_type": "display_data"
    }
   ],
   "source": [
    "# afin de pouvoir utiliser le test de Pearson, un des échantillons doivent suivre\n",
    "# une loi normale\n",
    "hist(data$age) # ça à l'air 'normale'"
   ]
  },
  {
   "cell_type": "code",
   "execution_count": 44,
   "metadata": {},
   "outputs": [
    {
     "data": {
      "text/plain": [
       "\n",
       "\tPearson's product-moment correlation\n",
       "\n",
       "data:  data$score.relation and data$age\n",
       "t = 1.796, df = 347, p-value = 0.07336\n",
       "alternative hypothesis: true correlation is not equal to 0\n",
       "95 percent confidence interval:\n",
       " -0.009102243  0.198945290\n",
       "sample estimates:\n",
       "       cor \n",
       "0.09596955 \n"
      ]
     },
     "metadata": {},
     "output_type": "display_data"
    }
   ],
   "source": [
    "cor.test(data$score.relation, data$age, use='complete.obs') # mais avec un P > 0.05, le test de\n",
    "    # nullité du coefficient cor nous indique qu'on ne peut pas rejeter H0\n",
    "    # ainsi il peut ne pas y avoir de corrélation entre ces 2 variables"
   ]
  },
  {
   "cell_type": "code",
   "execution_count": 93,
   "metadata": {},
   "outputs": [
    {
     "data": {
      "text/plain": [
       "\n",
       "\tSpearman's rank correlation rho\n",
       "\n",
       "data:  score.relation and age\n",
       "S = 6235400, p-value = 0.02513\n",
       "alternative hypothesis: true rho is not equal to 0\n",
       "sample estimates:\n",
       "      rho \n",
       "0.1198729 \n"
      ]
     },
     "metadata": {},
     "output_type": "display_data"
    }
   ],
   "source": [
    "cor.test(~score.relation+age, data, method=\"spearman\", exact=F)\n",
    "#la normalité n'est respectée pour aucune des 2 variables\", alors il faudrait plutôt \n",
    "#faire une corrélation de Spearman (avec exact=F car il y a des ex-aequo)"
   ]
  },
  {
   "cell_type": "markdown",
   "metadata": {},
   "source": [
    "##### 4.La moyenne du score de relation est-il significativement différent chez les hommes et chez les femmes ? (le script doit inclure la vérification éventuelle des conditions de validité de la méthode utilisée)"
   ]
  },
  {
   "cell_type": "code",
   "execution_count": 65,
   "metadata": {},
   "outputs": [
    {
     "data": {
      "text/plain": [
       "data$sexe: M\n",
       "[1] 20.72353\n",
       "------------------------------------------------------------ \n",
       "data$sexe: F\n",
       "[1] 22.06747"
      ]
     },
     "metadata": {},
     "output_type": "display_data"
    }
   ],
   "source": [
    "# ici nous devons tester si la variance est équivalente pour les 2 groupes\n",
    "by(data$score.relation, data$sexe, var, na.rm=TRUE) # l'écart entre les variances est minime, OK"
   ]
  },
  {
   "cell_type": "code",
   "execution_count": 94,
   "metadata": {},
   "outputs": [
    {
     "ename": "ERROR",
     "evalue": "Error in eval(expr, envir, enclos): length(score.f) > 30 is not TRUE\n",
     "output_type": "error",
     "traceback": [
      "Error in eval(expr, envir, enclos): length(score.f) > 30 is not TRUE\nTraceback:\n",
      "1. stopifnot(length(score.f) > 30, length(score.h) > 30)"
     ]
    }
   ],
   "source": [
    "score.f = data[data$sexe==1,\"score.relation\"]\n",
    "score.h = data[data$sexe==0,\"score.relation\"]\n",
    "stopifnot(length(score.f)>30, length(score.h)>30)"
   ]
  },
  {
   "cell_type": "code",
   "execution_count": 75,
   "metadata": {},
   "outputs": [
    {
     "data": {
      "text/plain": [
       "\n",
       "\tShapiro-Wilk normality test\n",
       "\n",
       "data:  data$score.relation\n",
       "W = 0.87952, p-value = 6.703e-16\n"
      ]
     },
     "metadata": {},
     "output_type": "display_data"
    }
   ],
   "source": [
    "shapiro.test(data$score.relation) # test normalité"
   ]
  },
  {
   "cell_type": "code",
   "execution_count": 69,
   "metadata": {},
   "outputs": [
    {
     "data": {
      "image/png": "[encoded data removed]",
      "text/plain": [
       "plot without title"
      ]
     },
     "metadata": {},
     "output_type": "display_data"
    }
   ],
   "source": [
    "boxplot(score.relation~sexe, data=data) # jetons un oeil avisé à la répartition des données"
   ]
  },
  {
   "cell_type": "code",
   "execution_count": 66,
   "metadata": {},
   "outputs": [
    {
     "data": {
      "text/plain": [
       "\n",
       "\tTwo Sample t-test\n",
       "\n",
       "data:  data$score.relation by data$sexe\n",
       "t = 1.1166, df = 347, p-value = 0.2649\n",
       "alternative hypothesis: true difference in means is not equal to 0\n",
       "95 percent confidence interval:\n",
       " -0.4212101  1.5275370\n",
       "sample estimates:\n",
       "mean in group M mean in group F \n",
       "       35.48087        34.92771 \n"
      ]
     },
     "metadata": {},
     "output_type": "display_data"
    }
   ],
   "source": [
    "t.test(data$score.relation~data$sexe, var.equal = TRUE)"
   ]
  },
  {
   "cell_type": "code",
   "execution_count": null,
   "metadata": {},
   "outputs": [],
   "source": [
    "# ceci conclut notre devoir, ici largement P>0.05, on ne rejette donc pas H0 et on peut\n",
    "# affirmer qu'il n'y a pas de différence entre les moyennes. Bye_"
   ]
  }
 ],
 "metadata": {
  "kernelspec": {
   "display_name": "R",
   "language": "R",
   "name": "ir"
  },
  "language_info": {
   "codemirror_mode": "r",
   "file_extension": ".r",
   "mimetype": "text/x-r-source",
   "name": "R",
   "pygments_lexer": "r",
   "version": "3.5.1"
  }
 },
 "nbformat": 4,
 "nbformat_minor": 2
}
