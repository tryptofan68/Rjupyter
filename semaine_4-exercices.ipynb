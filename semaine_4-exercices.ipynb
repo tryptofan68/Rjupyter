{
 "cells": [
  {
   "cell_type": "markdown",
   "metadata": {},
   "source": [
    "Les exercices 1 à 3 sont indépendants des données “santé mentale en prison” (smp) et reposent sur la compréhension et l'utilisation du logiciel R à partir de données artificielles. Les exercices 4 à 6 portent sur les données smp, disponibles dans un data frame (ou tableau de données)"
   ]
  },
  {
   "cell_type": "code",
   "execution_count": 1,
   "metadata": {},
   "outputs": [],
   "source": [
    "data=read.csv2('../data/smp2.csv')"
   ]
  },
  {
   "cell_type": "code",
   "execution_count": 2,
   "metadata": {},
   "outputs": [
    {
     "name": "stdout",
     "output_type": "stream",
     "text": [
      "'data.frame':\t799 obs. of  26 variables:\n",
      " $ age         : int  31 49 50 47 23 34 24 52 42 45 ...\n",
      " $ prof        : Factor w/ 8 levels \"agriculteur\",..: 3 NA 7 6 8 6 3 2 6 6 ...\n",
      " $ duree       : int  4 NA 5 NA 4 NA NA 5 4 NA ...\n",
      " $ discip      : int  0 0 0 0 1 0 0 0 1 0 ...\n",
      " $ n.enfant    : int  2 7 2 0 1 3 5 2 1 2 ...\n",
      " $ n.fratrie   : int  4 3 2 6 6 2 3 9 12 5 ...\n",
      " $ ecole       : int  1 2 2 1 1 2 1 2 1 2 ...\n",
      " $ separation  : int  0 1 0 1 1 0 1 0 1 0 ...\n",
      " $ juge.enfant : int  0 0 0 0 NA 0 1 0 1 0 ...\n",
      " $ place       : int  0 0 0 1 1 0 1 0 0 0 ...\n",
      " $ abus        : int  0 0 0 0 0 0 0 0 1 1 ...\n",
      " $ grav.cons   : int  1 2 2 1 2 1 5 1 5 5 ...\n",
      " $ dep.cons    : int  0 0 0 0 1 0 1 0 1 0 ...\n",
      " $ ago.cons    : int  1 0 0 0 0 0 0 0 0 0 ...\n",
      " $ ptsd.cons   : int  0 0 0 0 0 0 0 0 0 0 ...\n",
      " $ alc.cons    : int  0 0 0 0 0 0 0 0 1 1 ...\n",
      " $ subst.cons  : int  0 0 0 0 0 0 1 0 1 0 ...\n",
      " $ scz.cons    : int  0 0 0 0 0 0 0 0 0 0 ...\n",
      " $ char        : int  1 1 1 1 1 1 1 1 4 1 ...\n",
      " $ rs          : int  2 2 2 2 2 1 3 2 3 2 ...\n",
      " $ ed          : int  1 2 3 2 2 2 3 2 3 2 ...\n",
      " $ dr          : int  1 1 2 2 2 1 2 2 1 2 ...\n",
      " $ suicide.s   : int  0 0 0 1 0 0 3 0 4 0 ...\n",
      " $ suicide.hr  : int  0 0 0 0 0 0 1 0 1 0 ...\n",
      " $ suicide.past: int  0 0 0 0 1 0 1 0 1 0 ...\n",
      " $ dur.interv  : int  NA 70 NA 105 NA NA 105 84 78 60 ...\n"
     ]
    }
   ],
   "source": [
    "str(data)"
   ]
  },
  {
   "cell_type": "markdown",
   "metadata": {},
   "source": [
    "##### 1. Pour réaliser une ANOVA à un facteur entre les variables y (réponse) et z (facteur) dans le data frame d, nous utilisons la commande :"
   ]
  },
  {
   "cell_type": "code",
   "execution_count": 6,
   "metadata": {},
   "outputs": [
    {
     "data": {
      "text/plain": [
       "\n",
       "Call:\n",
       "lm(formula = data$age ~ data$subst.cons)\n",
       "\n",
       "Coefficients:\n",
       "    (Intercept)  data$subst.cons  \n",
       "          41.97           -11.60  \n"
      ]
     },
     "metadata": {},
     "output_type": "display_data"
    }
   ],
   "source": [
    "lm(data$age~data$subst.cons)"
   ]
  },
  {
   "cell_type": "code",
   "execution_count": 7,
   "metadata": {},
   "outputs": [
    {
     "data": {
      "text/html": [
       "<table>\n",
       "<thead><tr><th></th><th scope=col>Df</th><th scope=col>Sum Sq</th><th scope=col>Mean Sq</th><th scope=col>F value</th><th scope=col>Pr(&gt;F)</th></tr></thead>\n",
       "<tbody>\n",
       "\t<tr><th scope=row>data$subst.cons</th><td>  1         </td><td> 20880.3    </td><td>20880.2972  </td><td>138.8856    </td><td>1.165665e-29</td></tr>\n",
       "\t<tr><th scope=row>Residuals</th><td>795         </td><td>119521.7    </td><td>  150.3417  </td><td>      NA    </td><td>          NA</td></tr>\n",
       "</tbody>\n",
       "</table>\n"
      ],
      "text/latex": [
       "\\begin{tabular}{r|lllll}\n",
       "  & Df & Sum Sq & Mean Sq & F value & Pr(>F)\\\\\n",
       "\\hline\n",
       "\tdata\\$subst.cons &   1          &  20880.3     & 20880.2972   & 138.8856     & 1.165665e-29\\\\\n",
       "\tResiduals & 795          & 119521.7     &   150.3417   &       NA     &           NA\\\\\n",
       "\\end{tabular}\n"
      ],
      "text/markdown": [
       "\n",
       "| <!--/--> | Df | Sum Sq | Mean Sq | F value | Pr(>F) | \n",
       "|---|---|\n",
       "| data$subst.cons |   1          |  20880.3     | 20880.2972   | 138.8856     | 1.165665e-29 | \n",
       "| Residuals | 795          | 119521.7     |   150.3417   |       NA     |           NA | \n",
       "\n",
       "\n"
      ],
      "text/plain": [
       "                Df  Sum Sq   Mean Sq    F value  Pr(>F)      \n",
       "data$subst.cons   1  20880.3 20880.2972 138.8856 1.165665e-29\n",
       "Residuals       795 119521.7   150.3417       NA           NA"
      ]
     },
     "metadata": {},
     "output_type": "display_data"
    }
   ],
   "source": [
    "anova(lm(data$age~data$subst.cons))"
   ]
  },
  {
   "cell_type": "markdown",
   "metadata": {},
   "source": [
    "##### 2. Dans une régression logistique, R avec la fonction glm() fournit directement les odds-ratio.\n",
    "\n"
   ]
  },
  {
   "cell_type": "code",
   "execution_count": 8,
   "metadata": {},
   "outputs": [],
   "source": [
    "# FAUX - utiliser exp(coef) si 'binomial' est utilisé sans scale"
   ]
  },
  {
   "cell_type": "markdown",
   "metadata": {},
   "source": [
    "##### 3. La commande predict(mod) où mod est le résultat d'un modèle de régression logistique fourni par la commande glm(z ~ y, data=d, family=binomial(\"logit\")) fournit :"
   ]
  },
  {
   "cell_type": "code",
   "execution_count": 9,
   "metadata": {},
   "outputs": [],
   "source": [
    "# aucune proposition exacte"
   ]
  },
  {
   "cell_type": "markdown",
   "metadata": {},
   "source": [
    "##### 4. Nous considérons l'âge (age) des individus ayant 4 enfants ou plus (n.enfant) et dont la catégorie socio-professionnelle (prof) figure parmi les modalités suivantes : « sans emploi », « ouvrier », « cadre » et « employé ». Pour ce sous-ensemble de l'échantillon du data frame smp, le rapport entre les deux variances les plus extrêmes dans ces 4 groupes est :"
   ]
  },
  {
   "cell_type": "code",
   "execution_count": 10,
   "metadata": {},
   "outputs": [],
   "source": [
    "sub = subset(data, n.enfant >= 4 & prof %in% c(\n",
    "\"sans emploi\", \"ouvrier\", \"cadre\", \"employé\"))"
   ]
  },
  {
   "cell_type": "code",
   "execution_count": 21,
   "metadata": {},
   "outputs": [],
   "source": [
    "#refactorisation\n",
    "sub$prof = factor(sub$prof, levels=c(\"sans emploi\", \"ouvrier\", \"cadre\", \"employé\"))"
   ]
  },
  {
   "cell_type": "code",
   "execution_count": 24,
   "metadata": {},
   "outputs": [
    {
     "data": {
      "text/html": [
       "<table>\n",
       "<thead><tr><th scope=col>prof</th><th scope=col>age</th></tr></thead>\n",
       "<tbody>\n",
       "\t<tr><td>sans emploi</td><td>281.22615  </td></tr>\n",
       "\t<tr><td>ouvrier    </td><td> 88.22619  </td></tr>\n",
       "\t<tr><td>cadre      </td><td>158.00000  </td></tr>\n",
       "</tbody>\n",
       "</table>\n"
      ],
      "text/latex": [
       "\\begin{tabular}{r|ll}\n",
       " prof & age\\\\\n",
       "\\hline\n",
       "\t sans emploi & 281.22615  \\\\\n",
       "\t ouvrier     &  88.22619  \\\\\n",
       "\t cadre       & 158.00000  \\\\\n",
       "\\end{tabular}\n"
      ],
      "text/markdown": [
       "\n",
       "prof | age | \n",
       "|---|---|---|\n",
       "| sans emploi | 281.22615   | \n",
       "| ouvrier     |  88.22619   | \n",
       "| cadre       | 158.00000   | \n",
       "\n",
       "\n"
      ],
      "text/plain": [
       "  prof        age      \n",
       "1 sans emploi 281.22615\n",
       "2 ouvrier      88.22619\n",
       "3 cadre       158.00000"
      ]
     },
     "metadata": {},
     "output_type": "display_data"
    }
   ],
   "source": [
    "aggregate(age~prof, var, data=sub)"
   ]
  },
  {
   "cell_type": "code",
   "execution_count": 66,
   "metadata": {},
   "outputs": [
    {
     "data": {
      "text/html": [
       "3.18755859229555"
      ],
      "text/latex": [
       "3.18755859229555"
      ],
      "text/markdown": [
       "3.18755859229555"
      ],
      "text/plain": [
       "[1] 3.187559"
      ]
     },
     "metadata": {},
     "output_type": "display_data"
    }
   ],
   "source": [
    "281.22615/88.22619"
   ]
  },
  {
   "cell_type": "markdown",
   "metadata": {},
   "source": [
    "REPONSE"
   ]
  },
  {
   "cell_type": "code",
   "execution_count": 68,
   "metadata": {},
   "outputs": [
    {
     "data": {
      "text/html": [
       "<table>\n",
       "<thead><tr><th scope=col>prof</th><th scope=col>age</th></tr></thead>\n",
       "<tbody>\n",
       "\t<tr><td>cadre      </td><td>158.00000  </td></tr>\n",
       "\t<tr><td>employe    </td><td>135.71667  </td></tr>\n",
       "\t<tr><td>ouvrier    </td><td> 88.22619  </td></tr>\n",
       "\t<tr><td>sans emploi</td><td>281.22615  </td></tr>\n",
       "</tbody>\n",
       "</table>\n"
      ],
      "text/latex": [
       "\\begin{tabular}{r|ll}\n",
       " prof & age\\\\\n",
       "\\hline\n",
       "\t cadre       & 158.00000  \\\\\n",
       "\t employe     & 135.71667  \\\\\n",
       "\t ouvrier     &  88.22619  \\\\\n",
       "\t sans emploi & 281.22615  \\\\\n",
       "\\end{tabular}\n"
      ],
      "text/markdown": [
       "\n",
       "prof | age | \n",
       "|---|---|---|---|\n",
       "| cadre       | 158.00000   | \n",
       "| employe     | 135.71667   | \n",
       "| ouvrier     |  88.22619   | \n",
       "| sans emploi | 281.22615   | \n",
       "\n",
       "\n"
      ],
      "text/plain": [
       "  prof        age      \n",
       "1 cadre       158.00000\n",
       "2 employe     135.71667\n",
       "3 ouvrier      88.22619\n",
       "4 sans emploi 281.22615"
      ]
     },
     "metadata": {},
     "output_type": "display_data"
    }
   ],
   "source": [
    "aggregate(age ~ prof, data = subset(\n",
    "    data, n.enfant > 3 & prof %in% c(\n",
    "        \"sans emploi\", \"ouvrier\", \"cadre\", \"employe\"), c(age, prof)), var)"
   ]
  },
  {
   "cell_type": "markdown",
   "metadata": {},
   "source": [
    "##### 5. Nous souhaitons réaliser une ANOVA à un facteur en considérant l'âge (age) comme variable réponse, et la taille de la fratrie (n.fratrie) recodée en 3 classes (0-2, 3-4, 5+) comme variable explicative. Les bornes des intervalles sont inclues pour chacune des trois classes. Indiquer le résultat du test F de Fisher-Snedecor d’égalité des moyennes :"
   ]
  },
  {
   "cell_type": "code",
   "execution_count": 39,
   "metadata": {},
   "outputs": [
    {
     "data": {
      "text/html": [
       "21"
      ],
      "text/latex": [
       "21"
      ],
      "text/markdown": [
       "21"
      ],
      "text/plain": [
       "[1] 21"
      ]
     },
     "metadata": {},
     "output_type": "display_data"
    }
   ],
   "source": [
    "max(data$n.fratrie)"
   ]
  },
  {
   "cell_type": "code",
   "execution_count": 48,
   "metadata": {},
   "outputs": [],
   "source": [
    "#data$n.fratrie.b = cut(data$n.fratrie, breaks = c(0,3,5,21), include.lowest = FALSE)"
   ]
  },
  {
   "cell_type": "code",
   "execution_count": 51,
   "metadata": {},
   "outputs": [],
   "source": [
    "data$n.fratrie.b = ifelse(data$n.fratrie>=5,2, ifelse(data$n.fratrie<=2,0,1))"
   ]
  },
  {
   "cell_type": "code",
   "execution_count": 57,
   "metadata": {},
   "outputs": [
    {
     "data": {
      "text/plain": [
       "\n",
       "   0    1    2 <NA> \n",
       " 273  219  307    0 "
      ]
     },
     "metadata": {},
     "output_type": "display_data"
    }
   ],
   "source": [
    "table(data$n.fratrie.b, useNA = 'always')"
   ]
  },
  {
   "cell_type": "code",
   "execution_count": 75,
   "metadata": {},
   "outputs": [
    {
     "data": {
      "text/html": [
       "<table>\n",
       "<thead><tr><th></th><th scope=col>Df</th><th scope=col>Sum Sq</th><th scope=col>Mean Sq</th><th scope=col>F value</th><th scope=col>Pr(&gt;F)</th></tr></thead>\n",
       "<tbody>\n",
       "\t<tr><th scope=row>n.fratrie.b</th><td>  1       </td><td>   984.762</td><td>984.7620  </td><td>5.615417  </td><td>0.01804101</td></tr>\n",
       "\t<tr><th scope=row>Residuals</th><td>795       </td><td>139417.208</td><td>175.3676  </td><td>      NA  </td><td>        NA</td></tr>\n",
       "</tbody>\n",
       "</table>\n"
      ],
      "text/latex": [
       "\\begin{tabular}{r|lllll}\n",
       "  & Df & Sum Sq & Mean Sq & F value & Pr(>F)\\\\\n",
       "\\hline\n",
       "\tn.fratrie.b &   1        &    984.762 & 984.7620   & 5.615417   & 0.01804101\\\\\n",
       "\tResiduals & 795        & 139417.208 & 175.3676   &       NA   &         NA\\\\\n",
       "\\end{tabular}\n"
      ],
      "text/markdown": [
       "\n",
       "| <!--/--> | Df | Sum Sq | Mean Sq | F value | Pr(>F) | \n",
       "|---|---|\n",
       "| n.fratrie.b |   1        |    984.762 | 984.7620   | 5.615417   | 0.01804101 | \n",
       "| Residuals | 795        | 139417.208 | 175.3676   |       NA   |         NA | \n",
       "\n",
       "\n"
      ],
      "text/plain": [
       "            Df  Sum Sq     Mean Sq  F value  Pr(>F)    \n",
       "n.fratrie.b   1    984.762 984.7620 5.615417 0.01804101\n",
       "Residuals   795 139417.208 175.3676       NA         NA"
      ]
     },
     "metadata": {},
     "output_type": "display_data"
    }
   ],
   "source": [
    "anova(lm(age~n.fratrie.b, data=data))"
   ]
  },
  {
   "cell_type": "markdown",
   "metadata": {},
   "source": [
    "REPONSE"
   ]
  },
  {
   "cell_type": "code",
   "execution_count": 71,
   "metadata": {},
   "outputs": [
    {
     "data": {
      "text/html": [
       "<table>\n",
       "<thead><tr><th></th><th scope=col>Df</th><th scope=col>Sum Sq</th><th scope=col>Mean Sq</th><th scope=col>F value</th><th scope=col>Pr(&gt;F)</th></tr></thead>\n",
       "<tbody>\n",
       "\t<tr><th scope=row>n.fratrie.c</th><td>  2        </td><td>   985.1707</td><td>492.5854   </td><td>2.805349   </td><td>0.06108532 </td></tr>\n",
       "\t<tr><th scope=row>Residuals</th><td>794        </td><td>139416.7992</td><td>175.5879   </td><td>      NA   </td><td>        NA </td></tr>\n",
       "</tbody>\n",
       "</table>\n"
      ],
      "text/latex": [
       "\\begin{tabular}{r|lllll}\n",
       "  & Df & Sum Sq & Mean Sq & F value & Pr(>F)\\\\\n",
       "\\hline\n",
       "\tn.fratrie.c &   2         &    985.1707 & 492.5854    & 2.805349    & 0.06108532 \\\\\n",
       "\tResiduals & 794         & 139416.7992 & 175.5879    &       NA    &         NA \\\\\n",
       "\\end{tabular}\n"
      ],
      "text/markdown": [
       "\n",
       "| <!--/--> | Df | Sum Sq | Mean Sq | F value | Pr(>F) | \n",
       "|---|---|\n",
       "| n.fratrie.c |   2         |    985.1707 | 492.5854    | 2.805349    | 0.06108532  | \n",
       "| Residuals | 794         | 139416.7992 | 175.5879    |       NA    |         NA  | \n",
       "\n",
       "\n"
      ],
      "text/plain": [
       "            Df  Sum Sq      Mean Sq  F value  Pr(>F)    \n",
       "n.fratrie.c   2    985.1707 492.5854 2.805349 0.06108532\n",
       "Residuals   794 139416.7992 175.5879       NA         NA"
      ]
     },
     "metadata": {},
     "output_type": "display_data"
    }
   ],
   "source": [
    "n.fratrie.c <- cut(data$n.fratrie, breaks = c(0, 2, 4, 21), include.lowest = TRUE)\n",
    "anova(lm(age ~ n.fratrie.c, data = data))"
   ]
  },
  {
   "cell_type": "code",
   "execution_count": 74,
   "metadata": {},
   "outputs": [
    {
     "data": {
      "text/plain": [
       "n.fratrie.c\n",
       " [0,2]  (2,4] (4,21] \n",
       "   273    219    307 "
      ]
     },
     "metadata": {},
     "output_type": "display_data"
    }
   ],
   "source": [
    "table(n.fratrie.c)"
   ]
  },
  {
   "cell_type": "markdown",
   "metadata": {},
   "source": [
    "##### 6. Nous nous intéressons à la relation entre la variable séparation (separation) et l'âge (age) des individus, que l'on modélise à l'aide d'une régression logistique. Donner la borne inférieure de l'intervalle de confiance à 95 % pour l'odds-ratio (3 chiffres après la virgule)."
   ]
  },
  {
   "cell_type": "code",
   "execution_count": 64,
   "metadata": {},
   "outputs": [
    {
     "name": "stderr",
     "output_type": "stream",
     "text": [
      "Waiting for profiling to be done...\n"
     ]
    },
    {
     "data": {
      "text/html": [
       "<table>\n",
       "<thead><tr><th></th><th scope=col>2.5 %</th><th scope=col>97.5 %</th></tr></thead>\n",
       "<tbody>\n",
       "\t<tr><th scope=row>(Intercept)</th><td>-0.25167204 </td><td> 0.630369847</td></tr>\n",
       "\t<tr><th scope=row>age</th><td>-0.02388803 </td><td>-0.002161716</td></tr>\n",
       "</tbody>\n",
       "</table>\n"
      ],
      "text/latex": [
       "\\begin{tabular}{r|ll}\n",
       "  & 2.5 \\% & 97.5 \\%\\\\\n",
       "\\hline\n",
       "\t(Intercept) & -0.25167204  &  0.630369847\\\\\n",
       "\tage & -0.02388803  & -0.002161716\\\\\n",
       "\\end{tabular}\n"
      ],
      "text/markdown": [
       "\n",
       "| <!--/--> | 2.5 % | 97.5 % | \n",
       "|---|---|\n",
       "| (Intercept) | -0.25167204  |  0.630369847 | \n",
       "| age | -0.02388803  | -0.002161716 | \n",
       "\n",
       "\n"
      ],
      "text/plain": [
       "            2.5 %       97.5 %      \n",
       "(Intercept) -0.25167204  0.630369847\n",
       "age         -0.02388803 -0.002161716"
      ]
     },
     "metadata": {},
     "output_type": "display_data"
    }
   ],
   "source": [
    "confint(glm(separation~age, data=data, family='binomial'))"
   ]
  },
  {
   "cell_type": "markdown",
   "metadata": {},
   "source": [
    "REPONSE"
   ]
  },
  {
   "cell_type": "code",
   "execution_count": 77,
   "metadata": {},
   "outputs": [
    {
     "name": "stderr",
     "output_type": "stream",
     "text": [
      "Waiting for profiling to be done...\n"
     ]
    },
    {
     "data": {
      "text/html": [
       "<table>\n",
       "<thead><tr><th></th><th scope=col>2.5 %</th><th scope=col>97.5 %</th></tr></thead>\n",
       "<tbody>\n",
       "\t<tr><th scope=row>(Intercept)</th><td>0.7774997</td><td>1.8783051</td></tr>\n",
       "\t<tr><th scope=row>age</th><td>0.9763950</td><td>0.9978406</td></tr>\n",
       "</tbody>\n",
       "</table>\n"
      ],
      "text/latex": [
       "\\begin{tabular}{r|ll}\n",
       "  & 2.5 \\% & 97.5 \\%\\\\\n",
       "\\hline\n",
       "\t(Intercept) & 0.7774997 & 1.8783051\\\\\n",
       "\tage & 0.9763950 & 0.9978406\\\\\n",
       "\\end{tabular}\n"
      ],
      "text/markdown": [
       "\n",
       "| <!--/--> | 2.5 % | 97.5 % | \n",
       "|---|---|\n",
       "| (Intercept) | 0.7774997 | 1.8783051 | \n",
       "| age | 0.9763950 | 0.9978406 | \n",
       "\n",
       "\n"
      ],
      "text/plain": [
       "            2.5 %     97.5 %   \n",
       "(Intercept) 0.7774997 1.8783051\n",
       "age         0.9763950 0.9978406"
      ]
     },
     "metadata": {},
     "output_type": "display_data"
    }
   ],
   "source": [
    "m <- glm(separation ~ age, data = data, family = binomial)\n",
    "exp(confint(m))"
   ]
  },
  {
   "cell_type": "markdown",
   "metadata": {},
   "source": [
    "#### EXERCICES FACULTATIFS"
   ]
  },
  {
   "cell_type": "markdown",
   "metadata": {},
   "source": [
    "##### 1. À partir d'un modèle de régression linéaire dont les résultats ont été enregistrés dans une variable appelée mod, l'instruction fitted(mod) permet de fournir :"
   ]
  },
  {
   "cell_type": "code",
   "execution_count": 78,
   "metadata": {},
   "outputs": [],
   "source": [
    "# Les valeurs prédites de la variable réponse pour les valeurs observées de la variable explicative"
   ]
  },
  {
   "cell_type": "markdown",
   "metadata": {},
   "source": [
    "##### 2. Pour obtenir un intervalle de confiance à 90 % pour les coefficients d'un modèle de régression logistique stocké dans une variable appelée mod, on utilise la commande :"
   ]
  },
  {
   "cell_type": "code",
   "execution_count": 79,
   "metadata": {},
   "outputs": [],
   "source": [
    "help(confint)"
   ]
  },
  {
   "cell_type": "code",
   "execution_count": 80,
   "metadata": {},
   "outputs": [
    {
     "data": {
      "text/html": [
       "<table>\n",
       "<thead><tr><th></th><th scope=col>5 %</th><th scope=col>95 %</th></tr></thead>\n",
       "<tbody>\n",
       "\t<tr><th scope=row>(Intercept)</th><td>39.04184  </td><td>41.4897222</td></tr>\n",
       "\t<tr><th scope=row>n.fratrie.b</th><td>-2.21547  </td><td>-0.3987581</td></tr>\n",
       "</tbody>\n",
       "</table>\n"
      ],
      "text/latex": [
       "\\begin{tabular}{r|ll}\n",
       "  & 5 \\% & 95 \\%\\\\\n",
       "\\hline\n",
       "\t(Intercept) & 39.04184   & 41.4897222\\\\\n",
       "\tn.fratrie.b & -2.21547   & -0.3987581\\\\\n",
       "\\end{tabular}\n"
      ],
      "text/markdown": [
       "\n",
       "| <!--/--> | 5 % | 95 % | \n",
       "|---|---|\n",
       "| (Intercept) | 39.04184   | 41.4897222 | \n",
       "| n.fratrie.b | -2.21547   | -0.3987581 | \n",
       "\n",
       "\n"
      ],
      "text/plain": [
       "            5 %      95 %      \n",
       "(Intercept) 39.04184 41.4897222\n",
       "n.fratrie.b -2.21547 -0.3987581"
      ]
     },
     "metadata": {},
     "output_type": "display_data"
    }
   ],
   "source": [
    "confint(lm(age~n.fratrie.b, data=data), level=0.90)"
   ]
  },
  {
   "cell_type": "markdown",
   "metadata": {},
   "source": [
    "##### 3. Pour le modèle de régression linéaire simple dans lequel la variable durée d'interview (dur.interv) tient lieu de variable à expliquer et la variable âge (age) de variable explicative, indiquer la borne supérieure de l'intervalle de confiance à 90 % pour la pente de régression (3 chiffres après la virgule)."
   ]
  },
  {
   "cell_type": "code",
   "execution_count": 81,
   "metadata": {},
   "outputs": [
    {
     "data": {
      "text/html": [
       "<table>\n",
       "<thead><tr><th></th><th scope=col>5 %</th><th scope=col>95 %</th></tr></thead>\n",
       "<tbody>\n",
       "\t<tr><th scope=row>(Intercept)</th><td>53.38432774</td><td>60.6975006 </td></tr>\n",
       "\t<tr><th scope=row>age</th><td> 0.03772514</td><td> 0.2147785 </td></tr>\n",
       "</tbody>\n",
       "</table>\n"
      ],
      "text/latex": [
       "\\begin{tabular}{r|ll}\n",
       "  & 5 \\% & 95 \\%\\\\\n",
       "\\hline\n",
       "\t(Intercept) & 53.38432774 & 60.6975006 \\\\\n",
       "\tage &  0.03772514 &  0.2147785 \\\\\n",
       "\\end{tabular}\n"
      ],
      "text/markdown": [
       "\n",
       "| <!--/--> | 5 % | 95 % | \n",
       "|---|---|\n",
       "| (Intercept) | 53.38432774 | 60.6975006  | \n",
       "| age |  0.03772514 |  0.2147785  | \n",
       "\n",
       "\n"
      ],
      "text/plain": [
       "            5 %         95 %      \n",
       "(Intercept) 53.38432774 60.6975006\n",
       "age          0.03772514  0.2147785"
      ]
     },
     "metadata": {},
     "output_type": "display_data"
    }
   ],
   "source": [
    "confint(lm(dur.interv~age, data=data), level=.9)"
   ]
  },
  {
   "cell_type": "markdown",
   "metadata": {},
   "source": [
    "##### 4. À partir du modèle de régression logistique considérant la variable suicide.hr comme variable à expliquer et age comme variable explicative, en ne considérant que les individus pour lesquels dep.cons = 1, indiquer la probabilité de haut risque suicidaire d'un individu âgé de 35 ans (3 chiffres après la virgule). [question difficile]"
   ]
  },
  {
   "cell_type": "code",
   "execution_count": 85,
   "metadata": {},
   "outputs": [],
   "source": [
    "model = glm(suicide.hr~age, data=data, subset = dep.cons==1, family=binomial)"
   ]
  },
  {
   "cell_type": "code",
   "execution_count": 99,
   "metadata": {},
   "outputs": [
    {
     "data": {
      "text/plain": [
       "\n",
       "Call:\n",
       "glm(formula = suicide.hr ~ age, family = binomial, data = data, \n",
       "    subset = dep.cons == 1)\n",
       "\n",
       "Deviance Residuals: \n",
       "    Min       1Q   Median       3Q      Max  \n",
       "-1.0945  -1.0307  -0.9727   1.3186   1.5027  \n",
       "\n",
       "Coefficients:\n",
       "             Estimate Std. Error z value Pr(>|z|)\n",
       "(Intercept) -0.011601   0.378754  -0.031    0.976\n",
       "age         -0.009821   0.009623  -1.021    0.307\n",
       "\n",
       "(Dispersion parameter for binomial family taken to be 1)\n",
       "\n",
       "    Null deviance: 409.26  on 302  degrees of freedom\n",
       "Residual deviance: 408.21  on 301  degrees of freedom\n",
       "  (14 observations deleted due to missingness)\n",
       "AIC: 412.21\n",
       "\n",
       "Number of Fisher Scoring iterations: 4\n"
      ]
     },
     "metadata": {},
     "output_type": "display_data"
    }
   ],
   "source": [
    "summary(model)"
   ]
  },
  {
   "cell_type": "markdown",
   "metadata": {},
   "source": [
    "Log(p/(1-p))=-0.0116 -0.00982*age\n",
    "\n",
    "pour age=35 on a Log(p/(1-p))=-0.355\n",
    "\n",
    "soit p/(1-p)=0.7\n",
    "\n",
    "on trouve alors p = 0.7/1.7=0.412"
   ]
  },
  {
   "cell_type": "code",
   "execution_count": null,
   "metadata": {},
   "outputs": [],
   "source": []
  }
 ],
 "metadata": {
  "kernelspec": {
   "display_name": "R",
   "language": "R",
   "name": "ir"
  },
  "language_info": {
   "codemirror_mode": "r",
   "file_extension": ".r",
   "mimetype": "text/x-r-source",
   "name": "R",
   "pygments_lexer": "r",
   "version": "3.5.1"
  }
 },
 "nbformat": 4,
 "nbformat_minor": 2
}
