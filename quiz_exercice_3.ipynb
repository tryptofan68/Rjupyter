{
 "cells": [
  {
   "cell_type": "markdown",
   "metadata": {},
   "source": [
    "Les exercices 1 à 3 sont indépendants des données “santé mentale en prison” (smp) et reposent sur la compréhension et l'utilisation du logiciel R à partir de données artificielles. Les exercices 4 à 6 portent sur les données smp, disponibles dans un data frame (ou tableau de données) enregistré de la manière suivante :\n",
    "\n",
    "      smp <- read.csv2(\"smp2.csv\")\n",
    "    \n",
    "Le fichier smp2.csv peut être téléchargé à partir du menu «Ressources pédagoqiques» depuis la page principale du cours. Le descriptif des variables contenues dans ce fichier de données est fourni sur la même page.\n",
    "\n",
    "L'ensemble des variables est donc accessible à partir du data frame nommé smp. Pour accéder à une variable, par exemple l’âge, il sera donc nécessaire de préfixer le nom de la variable avec le nom de ce data frame, par exemple smp$age."
   ]
  },
  {
   "cell_type": "markdown",
   "metadata": {},
   "source": [
    "##### 1. Après avoir construit un tableau de contingence croisant les modalités de deux variables qualitatives, nous souhaitons afficher les fréquences relatives rapportées aux totaux lignes (somme des effectifs par ligne). Quelle option doit valoir margin= de la commande prop.table() ?"
   ]
  },
  {
   "cell_type": "code",
   "execution_count": 1,
   "metadata": {},
   "outputs": [],
   "source": [
    "data <- read.csv2('../data//smp2.csv')"
   ]
  },
  {
   "cell_type": "code",
   "execution_count": 3,
   "metadata": {},
   "outputs": [
    {
     "name": "stdout",
     "output_type": "stream",
     "text": [
      "'data.frame':\t799 obs. of  26 variables:\n",
      " $ age         : int  31 49 50 47 23 34 24 52 42 45 ...\n",
      " $ prof        : Factor w/ 8 levels \"agriculteur\",..: 3 NA 7 6 8 6 3 2 6 6 ...\n",
      " $ duree       : int  4 NA 5 NA 4 NA NA 5 4 NA ...\n",
      " $ discip      : int  0 0 0 0 1 0 0 0 1 0 ...\n",
      " $ n.enfant    : int  2 7 2 0 1 3 5 2 1 2 ...\n",
      " $ n.fratrie   : int  4 3 2 6 6 2 3 9 12 5 ...\n",
      " $ ecole       : int  1 2 2 1 1 2 1 2 1 2 ...\n",
      " $ separation  : int  0 1 0 1 1 0 1 0 1 0 ...\n",
      " $ juge.enfant : int  0 0 0 0 NA 0 1 0 1 0 ...\n",
      " $ place       : int  0 0 0 1 1 0 1 0 0 0 ...\n",
      " $ abus        : int  0 0 0 0 0 0 0 0 1 1 ...\n",
      " $ grav.cons   : int  1 2 2 1 2 1 5 1 5 5 ...\n",
      " $ dep.cons    : int  0 0 0 0 1 0 1 0 1 0 ...\n",
      " $ ago.cons    : int  1 0 0 0 0 0 0 0 0 0 ...\n",
      " $ ptsd.cons   : int  0 0 0 0 0 0 0 0 0 0 ...\n",
      " $ alc.cons    : int  0 0 0 0 0 0 0 0 1 1 ...\n",
      " $ subst.cons  : int  0 0 0 0 0 0 1 0 1 0 ...\n",
      " $ scz.cons    : int  0 0 0 0 0 0 0 0 0 0 ...\n",
      " $ char        : int  1 1 1 1 1 1 1 1 4 1 ...\n",
      " $ rs          : int  2 2 2 2 2 1 3 2 3 2 ...\n",
      " $ ed          : int  1 2 3 2 2 2 3 2 3 2 ...\n",
      " $ dr          : int  1 1 2 2 2 1 2 2 1 2 ...\n",
      " $ suicide.s   : int  0 0 0 1 0 0 3 0 4 0 ...\n",
      " $ suicide.hr  : int  0 0 0 0 0 0 1 0 1 0 ...\n",
      " $ suicide.past: int  0 0 0 0 1 0 1 0 1 0 ...\n",
      " $ dur.interv  : int  NA 70 NA 105 NA NA 105 84 78 60 ...\n"
     ]
    }
   ],
   "source": [
    "str(data)"
   ]
  },
  {
   "cell_type": "code",
   "execution_count": 6,
   "metadata": {},
   "outputs": [
    {
     "data": {
      "text/plain": [
       "                    \n",
       "                             1         2         3\n",
       "  agriculteur        0.6000000 0.2000000 0.2000000\n",
       "  artisan            0.4266667 0.3333333 0.2400000\n",
       "  autre              0.2962963 0.2222222 0.4814815\n",
       "  cadre              0.6000000 0.0500000 0.3500000\n",
       "  employe            0.3451327 0.2477876 0.4070796\n",
       "  ouvrier            0.3826531 0.2295918 0.3877551\n",
       "  prof.intermediaire 0.4081633 0.3265306 0.2653061\n",
       "  sans emploi        0.2836538 0.1634615 0.5528846"
      ]
     },
     "metadata": {},
     "output_type": "display_data"
    }
   ],
   "source": [
    "prop.table(table(data$prof, data$rs), margin=1)"
   ]
  },
  {
   "cell_type": "code",
   "execution_count": 7,
   "metadata": {},
   "outputs": [
    {
     "data": {
      "text/plain": [
       "                    \n",
       "                               1           2           3\n",
       "  agriculteur        0.004329004 0.001443001 0.001443001\n",
       "  artisan            0.046176046 0.036075036 0.025974026\n",
       "  autre              0.011544012 0.008658009 0.018759019\n",
       "  cadre              0.017316017 0.001443001 0.010101010\n",
       "  employe            0.056277056 0.040404040 0.066378066\n",
       "  ouvrier            0.108225108 0.064935065 0.109668110\n",
       "  prof.intermediaire 0.028860029 0.023088023 0.018759019\n",
       "  sans emploi        0.085137085 0.049062049 0.165945166"
      ]
     },
     "metadata": {},
     "output_type": "display_data"
    }
   ],
   "source": [
    "prop.table(table(data$prof, data$rs)) # no argument means over TOTAL/TOTAL"
   ]
  },
  {
   "cell_type": "markdown",
   "metadata": {},
   "source": [
    "###### 2. Supposons que nous disposons d'une variable numérique x (incluant des données manquantes) et d'une variable qualitative z, stockées dans un data frame appelé d. Quelle commande permet de calculer la moyenne de x pour chaque niveau de z ?"
   ]
  },
  {
   "cell_type": "code",
   "execution_count": 22,
   "metadata": {},
   "outputs": [],
   "source": [
    "d <- data[c('age', 'prof')] # subset using a vector"
   ]
  },
  {
   "cell_type": "code",
   "execution_count": 21,
   "metadata": {},
   "outputs": [
    {
     "data": {
      "text/html": [
       "<table>\n",
       "<thead><tr><th scope=col>age</th><th scope=col>prof</th></tr></thead>\n",
       "<tbody>\n",
       "\t<tr><td>31                </td><td>autre             </td></tr>\n",
       "\t<tr><td>49                </td><td>NA                </td></tr>\n",
       "\t<tr><td>50                </td><td>prof.intermediaire</td></tr>\n",
       "\t<tr><td>47                </td><td>ouvrier           </td></tr>\n",
       "\t<tr><td>23                </td><td>sans emploi       </td></tr>\n",
       "\t<tr><td>34                </td><td>ouvrier           </td></tr>\n",
       "</tbody>\n",
       "</table>\n"
      ],
      "text/latex": [
       "\\begin{tabular}{r|ll}\n",
       " age & prof\\\\\n",
       "\\hline\n",
       "\t 31                 & autre             \\\\\n",
       "\t 49                 & NA                \\\\\n",
       "\t 50                 & prof.intermediaire\\\\\n",
       "\t 47                 & ouvrier           \\\\\n",
       "\t 23                 & sans emploi       \\\\\n",
       "\t 34                 & ouvrier           \\\\\n",
       "\\end{tabular}\n"
      ],
      "text/markdown": [
       "\n",
       "age | prof | \n",
       "|---|---|---|---|---|---|\n",
       "| 31                 | autre              | \n",
       "| 49                 | NA                 | \n",
       "| 50                 | prof.intermediaire | \n",
       "| 47                 | ouvrier            | \n",
       "| 23                 | sans emploi        | \n",
       "| 34                 | ouvrier            | \n",
       "\n",
       "\n"
      ],
      "text/plain": [
       "  age prof              \n",
       "1 31  autre             \n",
       "2 49  NA                \n",
       "3 50  prof.intermediaire\n",
       "4 47  ouvrier           \n",
       "5 23  sans emploi       \n",
       "6 34  ouvrier           "
      ]
     },
     "metadata": {},
     "output_type": "display_data"
    }
   ],
   "source": [
    "head(d)"
   ]
  },
  {
   "cell_type": "code",
   "execution_count": 34,
   "metadata": {},
   "outputs": [
    {
     "data": {
      "text/plain": [
       "d$prof: agriculteur\n",
       "[1] 48.83333\n",
       "------------------------------------------------------------ \n",
       "d$prof: artisan\n",
       "[1] 45.11111\n",
       "------------------------------------------------------------ \n",
       "d$prof: autre\n",
       "[1] 34.93548\n",
       "------------------------------------------------------------ \n",
       "d$prof: cadre\n",
       "[1] 50.08333\n",
       "------------------------------------------------------------ \n",
       "d$prof: employe\n",
       "[1] 38.71111\n",
       "------------------------------------------------------------ \n",
       "d$prof: ouvrier\n",
       "[1] 37.39648\n",
       "------------------------------------------------------------ \n",
       "d$prof: prof.intermediaire\n",
       "[1] 43.25862\n",
       "------------------------------------------------------------ \n",
       "d$prof: sans emploi\n",
       "[1] 35.8964"
      ]
     },
     "metadata": {},
     "output_type": "display_data"
    }
   ],
   "source": [
    "by(d$age, d$prof, mean, na.rm=TRUE)"
   ]
  },
  {
   "cell_type": "code",
   "execution_count": 35,
   "metadata": {},
   "outputs": [
    {
     "data": {
      "text/html": [
       "<table>\n",
       "<thead><tr><th scope=col>prof</th><th scope=col>age</th></tr></thead>\n",
       "<tbody>\n",
       "\t<tr><td>agriculteur       </td><td>48.83333          </td></tr>\n",
       "\t<tr><td>artisan           </td><td>45.11111          </td></tr>\n",
       "\t<tr><td>autre             </td><td>34.93548          </td></tr>\n",
       "\t<tr><td>cadre             </td><td>50.08333          </td></tr>\n",
       "\t<tr><td>employe           </td><td>38.71111          </td></tr>\n",
       "\t<tr><td>ouvrier           </td><td>37.39648          </td></tr>\n",
       "\t<tr><td>prof.intermediaire</td><td>43.25862          </td></tr>\n",
       "\t<tr><td>sans emploi       </td><td>35.89640          </td></tr>\n",
       "</tbody>\n",
       "</table>\n"
      ],
      "text/latex": [
       "\\begin{tabular}{r|ll}\n",
       " prof & age\\\\\n",
       "\\hline\n",
       "\t agriculteur        & 48.83333          \\\\\n",
       "\t artisan            & 45.11111          \\\\\n",
       "\t autre              & 34.93548          \\\\\n",
       "\t cadre              & 50.08333          \\\\\n",
       "\t employe            & 38.71111          \\\\\n",
       "\t ouvrier            & 37.39648          \\\\\n",
       "\t prof.intermediaire & 43.25862          \\\\\n",
       "\t sans emploi        & 35.89640          \\\\\n",
       "\\end{tabular}\n"
      ],
      "text/markdown": [
       "\n",
       "prof | age | \n",
       "|---|---|---|---|---|---|---|---|\n",
       "| agriculteur        | 48.83333           | \n",
       "| artisan            | 45.11111           | \n",
       "| autre              | 34.93548           | \n",
       "| cadre              | 50.08333           | \n",
       "| employe            | 38.71111           | \n",
       "| ouvrier            | 37.39648           | \n",
       "| prof.intermediaire | 43.25862           | \n",
       "| sans emploi        | 35.89640           | \n",
       "\n",
       "\n"
      ],
      "text/plain": [
       "  prof               age     \n",
       "1 agriculteur        48.83333\n",
       "2 artisan            45.11111\n",
       "3 autre              34.93548\n",
       "4 cadre              50.08333\n",
       "5 employe            38.71111\n",
       "6 ouvrier            37.39648\n",
       "7 prof.intermediaire 43.25862\n",
       "8 sans emploi        35.89640"
      ]
     },
     "metadata": {},
     "output_type": "display_data"
    }
   ],
   "source": [
    "aggregate(age~prof, data=d, mean)"
   ]
  },
  {
   "cell_type": "code",
   "execution_count": 46,
   "metadata": {},
   "outputs": [
    {
     "ename": "ERROR",
     "evalue": "Error in aggregate(age, prof, data = d, mean, na.rm = TRUE): objet 'age' introuvable\n",
     "output_type": "error",
     "traceback": [
      "Error in aggregate(age, prof, data = d, mean, na.rm = TRUE): objet 'age' introuvable\nTraceback:\n",
      "1. aggregate(age, prof, data = d, mean, na.rm = TRUE)"
     ]
    }
   ],
   "source": [
    "aggregate(age, prof, data=d, mean, na.rm=TRUE)"
   ]
  },
  {
   "cell_type": "code",
   "execution_count": 51,
   "metadata": {},
   "outputs": [],
   "source": [
    "#within(d, tapply(age, prof, mean, na.rm=TRUE))"
   ]
  },
  {
   "cell_type": "markdown",
   "metadata": {},
   "source": [
    "###### 3. La commande t.test(y ~ z, data=d) où y et z sont deux variables (numérique et qualitative) disponibles dans un data frame d fournit un test de Student supposant l'égalité des variances parentes.\n",
    "\n"
   ]
  },
  {
   "cell_type": "code",
   "execution_count": 36,
   "metadata": {},
   "outputs": [
    {
     "ename": "ERROR",
     "evalue": "Error in t.test.formula(age ~ prof, data = d): grouping factor must have exactly 2 levels\n",
     "output_type": "error",
     "traceback": [
      "Error in t.test.formula(age ~ prof, data = d): grouping factor must have exactly 2 levels\nTraceback:\n",
      "1. t.test(age ~ prof, data = d)",
      "2. t.test.formula(age ~ prof, data = d)",
      "3. stop(\"grouping factor must have exactly 2 levels\")"
     ]
    }
   ],
   "source": [
    "t.test(age~prof, data=d)"
   ]
  },
  {
   "cell_type": "markdown",
   "metadata": {},
   "source": [
    "###### 4. Dans le data frame smp, la durée d'interview médiane chez les personnes diagnostiquées comme dépressives (dep.cons = 1) est supérieure à celle des personnes diagnostiquées comme non-dépressives (dep.cons = 0) de plus de :"
   ]
  },
  {
   "cell_type": "code",
   "execution_count": 38,
   "metadata": {},
   "outputs": [
    {
     "data": {
      "text/plain": [
       "data$dep.cons: 0\n",
       "[1] 60\n",
       "------------------------------------------------------------ \n",
       "data$dep.cons: 1\n",
       "[1] 65"
      ]
     },
     "metadata": {},
     "output_type": "display_data"
    }
   ],
   "source": [
    "by(data$dur.interv, data$dep.cons, median, na.rm=TRUE)"
   ]
  },
  {
   "cell_type": "markdown",
   "metadata": {},
   "source": [
    "###### 5. Donner la borne inférieure d'un intervalle de confiance à 95 % pour la corrélation linéaire (Pearson) entre les variables durée d'interview (dur.interv) et âge (age) (3 chiffres après la virgule)."
   ]
  },
  {
   "cell_type": "code",
   "execution_count": 40,
   "metadata": {},
   "outputs": [
    {
     "data": {
      "text/html": [
       "0.0857335785502191"
      ],
      "text/latex": [
       "0.0857335785502191"
      ],
      "text/markdown": [
       "0.0857335785502191"
      ],
      "text/plain": [
       "[1] 0.08573358"
      ]
     },
     "metadata": {},
     "output_type": "display_data"
    }
   ],
   "source": [
    "cor(data$dur.interv, data$age, use='complete.obs')"
   ]
  },
  {
   "cell_type": "code",
   "execution_count": 41,
   "metadata": {},
   "outputs": [
    {
     "data": {
      "text/plain": [
       "\n",
       "\tPearson's product-moment correlation\n",
       "\n",
       "data:  data$dur.interv and data$age\n",
       "t = 2.3487, df = 745, p-value = 0.0191\n",
       "alternative hypothesis: true correlation is not equal to 0\n",
       "95 percent confidence interval:\n",
       " 0.01408787 0.15650345\n",
       "sample estimates:\n",
       "       cor \n",
       "0.08573358 \n"
      ]
     },
     "metadata": {},
     "output_type": "display_data"
    }
   ],
   "source": [
    "cor.test(data$dur.interv, data$age)"
   ]
  },
  {
   "cell_type": "code",
   "execution_count": 52,
   "metadata": {},
   "outputs": [
    {
     "data": {
      "text/plain": [
       "\n",
       "\tPearson's product-moment correlation\n",
       "\n",
       "data:  dur.interv and age\n",
       "t = 2.3487, df = 745, p-value = 0.0191\n",
       "alternative hypothesis: true correlation is not equal to 0\n",
       "95 percent confidence interval:\n",
       " 0.01408787 0.15650345\n",
       "sample estimates:\n",
       "       cor \n",
       "0.08573358 \n"
      ]
     },
     "metadata": {},
     "output_type": "display_data"
    }
   ],
   "source": [
    "cor.test(~dur.interv+age, data=data)"
   ]
  },
  {
   "cell_type": "markdown",
   "metadata": {},
   "source": [
    "###### 6. Nous souhaitons vérifier si la durée d'interview (dur.interv) diffère sensiblement selon que les individus ont déjà effectué une tentative de suicide dans le passé ou non (suicide.past) à l'aide d'un test de Wilcoxon. Le degré de significativité du test est :"
   ]
  },
  {
   "cell_type": "code",
   "execution_count": 42,
   "metadata": {},
   "outputs": [
    {
     "data": {
      "text/plain": [
       "\n",
       "\tWilcoxon rank sum test with continuity correction\n",
       "\n",
       "data:  data$dur.interv and data$suicide.past\n",
       "W = 587460, p-value < 2.2e-16\n",
       "alternative hypothesis: true location shift is not equal to 0\n"
      ]
     },
     "metadata": {},
     "output_type": "display_data"
    }
   ],
   "source": [
    "wilcox.test(data$dur.interv, data$suicide.past)"
   ]
  },
  {
   "cell_type": "code",
   "execution_count": 54,
   "metadata": {},
   "outputs": [
    {
     "data": {
      "text/html": [
       "1.35502607179585e-07"
      ],
      "text/latex": [
       "1.35502607179585e-07"
      ],
      "text/markdown": [
       "1.35502607179585e-07"
      ],
      "text/plain": [
       "[1] 1.355026e-07"
      ]
     },
     "metadata": {},
     "output_type": "display_data"
    }
   ],
   "source": [
    "wilcox.test(dur.interv ~ suicide.past, data = data)$p.value"
   ]
  },
  {
   "cell_type": "markdown",
   "metadata": {},
   "source": [
    "###### 1. La commande tapply() admet 3 arguments principaux. À quoi correspond le 2ème argument ?"
   ]
  },
  {
   "cell_type": "code",
   "execution_count": 55,
   "metadata": {},
   "outputs": [],
   "source": [
    "#  Le facteur de classification"
   ]
  },
  {
   "cell_type": "markdown",
   "metadata": {},
   "source": [
    "###### 2.Pour afficher sous forme d'un diagramme de type boîtes à moustaches, la distribution d'une variable x en fonction des niveaux d'un facteur z, toutes les deux stockées dans un data frame d, nous utilisons la commande :"
   ]
  },
  {
   "cell_type": "code",
   "execution_count": 65,
   "metadata": {},
   "outputs": [],
   "source": [
    "options(repr.plot.width=6, repr.plot.height=3)"
   ]
  },
  {
   "cell_type": "code",
   "execution_count": 62,
   "metadata": {},
   "outputs": [
    {
     "data": {
      "image/png": "[encoded data removed]",
      "text/plain": [
       "plot without title"
      ]
     },
     "metadata": {},
     "output_type": "display_data"
    }
   ],
   "source": [
    "boxplot(data[, c('age', 'prof')])"
   ]
  },
  {
   "cell_type": "code",
   "execution_count": 63,
   "metadata": {},
   "outputs": [
    {
     "data": {
      "image/png": "[encoded data removed]",
      "text/plain": [
       "plot without title"
      ]
     },
     "metadata": {},
     "output_type": "display_data"
    }
   ],
   "source": [
    "boxplot(data$age, data$prof)"
   ]
  },
  {
   "cell_type": "code",
   "execution_count": 66,
   "metadata": {},
   "outputs": [
    {
     "data": {
      "image/png": "[encoded data removed]",
      "text/plain": [
       "plot without title"
      ]
     },
     "metadata": {},
     "output_type": "display_data"
    }
   ],
   "source": [
    "boxplot(age~prof, data=data)"
   ]
  },
  {
   "cell_type": "markdown",
   "metadata": {},
   "source": [
    "##### 3. Quelle est la valeur de la statistique de test (c’est-à-dire la valeur du « t », que l'on donnera pour simplifier en valeur absolue) pour un test de Student comparant les durées moyennes d'intervention (dur.interv) selon le diagnostic de dépression (dep.cons). Nous supposerons l'égalité des variances dans les deux groupes (3 chiffres après la virgule)."
   ]
  },
  {
   "cell_type": "code",
   "execution_count": 71,
   "metadata": {},
   "outputs": [
    {
     "data": {
      "text/plain": [
       "\n",
       "\tTwo Sample t-test\n",
       "\n",
       "data:  data$dur.interv by data$dep.cons\n",
       "t = -5.2583, df = 747, p-value = 1.9e-07\n",
       "alternative hypothesis: true difference in means is not equal to 0\n",
       "95 percent confidence interval:\n",
       " -10.457001  -4.771515\n",
       "sample estimates:\n",
       "mean in group 0 mean in group 1 \n",
       "       58.92341        66.53767 \n"
      ]
     },
     "metadata": {},
     "output_type": "display_data"
    }
   ],
   "source": [
    "t.test(data$dur.interv ~ data$dep.cons, var.equal = TRUE)"
   ]
  },
  {
   "cell_type": "code",
   "execution_count": 72,
   "metadata": {},
   "outputs": [
    {
     "data": {
      "text/plain": [
       "\n",
       "\tTwo Sample t-test\n",
       "\n",
       "data:  dur.interv by dep.cons\n",
       "t = -5.2583, df = 747, p-value = 1.9e-07\n",
       "alternative hypothesis: true difference in means is not equal to 0\n",
       "95 percent confidence interval:\n",
       " -10.457001  -4.771515\n",
       "sample estimates:\n",
       "mean in group 0 mean in group 1 \n",
       "       58.92341        66.53767 \n"
      ]
     },
     "metadata": {},
     "output_type": "display_data"
    }
   ],
   "source": [
    "t.test(dur.interv ~ dep.cons, data=data, var.equal = TRUE)"
   ]
  },
  {
   "cell_type": "markdown",
   "metadata": {},
   "source": [
    "###### 4. Quelle commande permet d'obtenir l'odds-ratio permettant de tester le degré d'association entre les deux variable binaires dep.cons et suicide.past ?"
   ]
  },
  {
   "cell_type": "code",
   "execution_count": 76,
   "metadata": {},
   "outputs": [],
   "source": [
    "help(odds.test)"
   ]
  },
  {
   "cell_type": "code",
   "execution_count": 77,
   "metadata": {},
   "outputs": [
    {
     "data": {
      "text/plain": [
       "\n",
       "\tFisher's Exact Test for Count Data\n",
       "\n",
       "data:  data$dep.cons and data$rs\n",
       "p-value = 0.007047\n",
       "alternative hypothesis: two.sided\n"
      ]
     },
     "metadata": {},
     "output_type": "display_data"
    }
   ],
   "source": [
    "fisher.test(data$dep.cons, data$rs)"
   ]
  },
  {
   "cell_type": "code",
   "execution_count": null,
   "metadata": {},
   "outputs": [],
   "source": []
  }
 ],
 "metadata": {
  "kernelspec": {
   "display_name": "R",
   "language": "R",
   "name": "ir"
  },
  "language_info": {
   "codemirror_mode": "r",
   "file_extension": ".r",
   "mimetype": "text/x-r-source",
   "name": "R",
   "pygments_lexer": "r",
   "version": "3.5.1"
  }
 },
 "nbformat": 4,
 "nbformat_minor": 2
}
